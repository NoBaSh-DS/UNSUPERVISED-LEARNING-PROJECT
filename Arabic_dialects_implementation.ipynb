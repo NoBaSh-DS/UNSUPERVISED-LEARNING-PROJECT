{
 "cells": [
  {
   "cell_type": "markdown",
   "metadata": {},
   "source": [
    "<b> T5 Data Science Bootcamp</b>"
   ]
  },
  {
   "cell_type": "markdown",
   "metadata": {},
   "source": [
    "# Arabic dialects"
   ]
  },
  {
   "cell_type": "markdown",
   "metadata": {},
   "source": [
    "###### by: Batoul Alosaimi, Shroaq Almutiri, and Norah Alqahtani"
   ]
  },
  {
   "cell_type": "markdown",
   "metadata": {},
   "source": [
    "<img src=\"imag/twitter-FA.png\"  width=800 height=800/>"
   ]
  },
  {
   "cell_type": "markdown",
   "metadata": {},
   "source": [
    "### Introduction: \n",
    "Based on our belief in the importance of the Arabic language, we have worked on a project that serves the Arabic language and its dialects by making use of artificial intelligence and machine learning, Our Arabian countries consist of a lot of dialects and in order to classify texts into its original dialects we have created \"Lahjatna\" project that aims to Identify dialect of speech from Twitter tweets."
   ]
  },
  {
   "cell_type": "markdown",
   "metadata": {},
   "source": [
    "### Objective:\n",
    "The objective of Lahjatna project is to help organizations and institutions recognize and identify their customers types and get to know them more in order to improve their services.\n"
   ]
  },
  {
   "cell_type": "markdown",
   "metadata": {},
   "source": [
    "## Table of Contents:\n"
   ]
  },
  {
   "cell_type": "markdown",
   "metadata": {},
   "source": [
    "<li><a id='Libraries'> Libraries</a></li>\n",
    "<li><a id='1. load data'> 1. load data</a></li>\n",
    "<li><a id=' 2. Preprocessing  '>2. Preprocessing  </a></li>\n",
    "<li><a id='3. Vectorization'>3.Vectorization  </a></li>\n",
    "<li><a id='4. Topic modeling'>4. Topic modeling  </a></li>\n",
    "<li><a id='5. Lable Tweet'>5. Lable Tweet </a></li>\n",
    "<li><a id='6.Exploratory Data Analysis'>6. Exploratory Data Analysis </a></li>\n",
    "<li><a id='7. Prepare data for modeling'>7. Prepare data for modeling</a></li>\n",
    "<li><a id='8. Classification'>8. Classification</a></li>\n",
    "\n"
   ]
  },
  {
   "cell_type": "markdown",
   "metadata": {},
   "source": [
    "## Libraries"
   ]
  },
  {
   "cell_type": "code",
   "execution_count": 1,
   "metadata": {},
   "outputs": [],
   "source": [
    "import pandas as pd \n",
    "import numpy as np\n",
    "import matplotlib.pyplot as plt\n",
    "import seaborn as sns\n",
    "import re\n",
    "from sklearn.feature_extraction.text import CountVectorizer\n",
    "import nltk\n",
    "import os\n",
    "import codecs\n",
    "from wordcloud import WordCloud\n",
    "import arabic_reshaper\n",
    "from bidi.algorithm import get_display\n",
    "from nltk.corpus import stopwords\n",
    "from sklearn.feature_extraction.text import TfidfVectorizer\n",
    "from sklearn.feature_extraction.text import CountVectorizer \n",
    "from sklearn.decomposition import TruncatedSVD\n",
    "from sklearn.decomposition import NMF\n",
    "from sklearn.metrics.pairwise import cosine_similarity\n",
    "from sklearn.model_selection import train_test_split\n",
    "from sklearn.feature_extraction.text import CountVectorizer\n",
    "from sklearn.linear_model import LogisticRegression\n",
    "from sklearn.naive_bayes import MultinomialNB\n",
    "from sklearn.svm import SVC\n",
    "from sklearn.metrics import classification_report\n",
    "from sklearn.metrics import classification_report, accuracy_score, recall_score, roc_auc_score, roc_curve, confusion_matrix\n",
    "from sklearn.metrics import f1_score\n"
   ]
  },
  {
   "cell_type": "markdown",
   "metadata": {},
   "source": [
    "### 1. load data"
   ]
  },
  {
   "cell_type": "code",
   "execution_count": 2,
   "metadata": {},
   "outputs": [],
   "source": [
    "df=pd.read_csv(\"Data/Dialect_data.csv\",index_col=0)"
   ]
  },
  {
   "cell_type": "code",
   "execution_count": 3,
   "metadata": {},
   "outputs": [
    {
     "data": {
      "text/html": [
       "<div>\n",
       "<style scoped>\n",
       "    .dataframe tbody tr th:only-of-type {\n",
       "        vertical-align: middle;\n",
       "    }\n",
       "\n",
       "    .dataframe tbody tr th {\n",
       "        vertical-align: top;\n",
       "    }\n",
       "\n",
       "    .dataframe thead th {\n",
       "        text-align: right;\n",
       "    }\n",
       "</style>\n",
       "<table border=\"1\" class=\"dataframe\">\n",
       "  <thead>\n",
       "    <tr style=\"text-align: right;\">\n",
       "      <th></th>\n",
       "      <th>tweet</th>\n",
       "      <th>label</th>\n",
       "    </tr>\n",
       "  </thead>\n",
       "  <tbody>\n",
       "    <tr>\n",
       "      <th>11457</th>\n",
       "      <td>@Otty1986 بتتشرطو وتدو نصايح كإنكم دول متقدمة ...</td>\n",
       "      <td>EG</td>\n",
       "    </tr>\n",
       "    <tr>\n",
       "      <th>5279</th>\n",
       "      <td>@doukha_azzedine الف مبرووووووك علينا ربي يحفظ...</td>\n",
       "      <td>NaN</td>\n",
       "    </tr>\n",
       "    <tr>\n",
       "      <th>13104</th>\n",
       "      <td>@DerpinaJO طالع اعيش فيها يا دانا و راح اكون ب...</td>\n",
       "      <td>NaN</td>\n",
       "    </tr>\n",
       "    <tr>\n",
       "      <th>25609</th>\n",
       "      <td>مبارح كنت بسوق تقريبا ل 5 ساعات ومعي صحابي \\nا...</td>\n",
       "      <td>PL</td>\n",
       "    </tr>\n",
       "    <tr>\n",
       "      <th>25831</th>\n",
       "      <td>لآ أتحمل مسؤولية أي حمار بيغلط وبيوقع بلساني :...</td>\n",
       "      <td>PL</td>\n",
       "    </tr>\n",
       "  </tbody>\n",
       "</table>\n",
       "</div>"
      ],
      "text/plain": [
       "                                                   tweet label\n",
       "11457  @Otty1986 بتتشرطو وتدو نصايح كإنكم دول متقدمة ...    EG\n",
       "5279   @doukha_azzedine الف مبرووووووك علينا ربي يحفظ...   NaN\n",
       "13104  @DerpinaJO طالع اعيش فيها يا دانا و راح اكون ب...   NaN\n",
       "25609  مبارح كنت بسوق تقريبا ل 5 ساعات ومعي صحابي \\nا...    PL\n",
       "25831  لآ أتحمل مسؤولية أي حمار بيغلط وبيوقع بلساني :...    PL"
      ]
     },
     "execution_count": 3,
     "metadata": {},
     "output_type": "execute_result"
    }
   ],
   "source": [
    "df.head(5)"
   ]
  },
  {
   "cell_type": "markdown",
   "metadata": {},
   "source": [
    "###### 1.1 Dataframe's Information"
   ]
  },
  {
   "cell_type": "code",
   "execution_count": 4,
   "metadata": {},
   "outputs": [
    {
     "data": {
      "text/plain": [
       "(411887, 2)"
      ]
     },
     "execution_count": 4,
     "metadata": {},
     "output_type": "execute_result"
    }
   ],
   "source": [
    "df.shape"
   ]
  },
  {
   "cell_type": "code",
   "execution_count": 5,
   "metadata": {},
   "outputs": [
    {
     "name": "stdout",
     "output_type": "stream",
     "text": [
      "<class 'pandas.core.frame.DataFrame'>\n",
      "Index: 411887 entries, 11457 to 26790\n",
      "Data columns (total 2 columns):\n",
      " #   Column  Non-Null Count   Dtype \n",
      "---  ------  --------------   ----- \n",
      " 0   tweet   411887 non-null  object\n",
      " 1   label   62368 non-null   object\n",
      "dtypes: object(2)\n",
      "memory usage: 9.4+ MB\n"
     ]
    }
   ],
   "source": [
    "df.info()"
   ]
  },
  {
   "cell_type": "markdown",
   "metadata": {},
   "source": [
    "###### 1.2 Drop null"
   ]
  },
  {
   "cell_type": "code",
   "execution_count": 7,
   "metadata": {},
   "outputs": [
    {
     "data": {
      "text/html": [
       "<div>\n",
       "<style scoped>\n",
       "    .dataframe tbody tr th:only-of-type {\n",
       "        vertical-align: middle;\n",
       "    }\n",
       "\n",
       "    .dataframe tbody tr th {\n",
       "        vertical-align: top;\n",
       "    }\n",
       "\n",
       "    .dataframe thead th {\n",
       "        text-align: right;\n",
       "    }\n",
       "</style>\n",
       "<table border=\"1\" class=\"dataframe\">\n",
       "  <thead>\n",
       "    <tr style=\"text-align: right;\">\n",
       "      <th></th>\n",
       "      <th>tweet</th>\n",
       "      <th>label</th>\n",
       "    </tr>\n",
       "  </thead>\n",
       "  <tbody>\n",
       "    <tr>\n",
       "      <th>11457</th>\n",
       "      <td>@Otty1986 بتتشرطو وتدو نصايح كإنكم دول متقدمة ...</td>\n",
       "      <td>EG</td>\n",
       "    </tr>\n",
       "    <tr>\n",
       "      <th>25609</th>\n",
       "      <td>مبارح كنت بسوق تقريبا ل 5 ساعات ومعي صحابي \\nا...</td>\n",
       "      <td>PL</td>\n",
       "    </tr>\n",
       "    <tr>\n",
       "      <th>25831</th>\n",
       "      <td>لآ أتحمل مسؤولية أي حمار بيغلط وبيوقع بلساني :...</td>\n",
       "      <td>PL</td>\n",
       "    </tr>\n",
       "    <tr>\n",
       "      <th>5172</th>\n",
       "      <td>الصبح من دونك قفل بيبانه\\nاصحي وخلي يكتسينا ضي...</td>\n",
       "      <td>OM</td>\n",
       "    </tr>\n",
       "    <tr>\n",
       "      <th>8271</th>\n",
       "      <td>@maya_e2 والله تمام كل الامور تحت السيطرة\\nمرض...</td>\n",
       "      <td>SY</td>\n",
       "    </tr>\n",
       "    <tr>\n",
       "      <th>...</th>\n",
       "      <td>...</td>\n",
       "      <td>...</td>\n",
       "    </tr>\n",
       "    <tr>\n",
       "      <th>30170</th>\n",
       "      <td>البنات ياربي 😱 بصااااير مش بنات 😒...</td>\n",
       "      <td>LY</td>\n",
       "    </tr>\n",
       "    <tr>\n",
       "      <th>8093</th>\n",
       "      <td>@1knz1 بدك بروكسي بدك تعمل جيليبريك لانو البرا...</td>\n",
       "      <td>SY</td>\n",
       "    </tr>\n",
       "    <tr>\n",
       "      <th>33770</th>\n",
       "      <td>عاد عيد الشوق واشواقي تگلم\\nعن غلاگ وگيف احبگ ...</td>\n",
       "      <td>KW</td>\n",
       "    </tr>\n",
       "    <tr>\n",
       "      <th>20939</th>\n",
       "      <td>ليه الناس اللى كل ما نحاول نقرب منهم بيحاولوا ...</td>\n",
       "      <td>EG</td>\n",
       "    </tr>\n",
       "    <tr>\n",
       "      <th>7736</th>\n",
       "      <td>@Amina68435787 @roroL47l  ايوى صافي ما بقا لين...</td>\n",
       "      <td>MA</td>\n",
       "    </tr>\n",
       "  </tbody>\n",
       "</table>\n",
       "<p>62368 rows × 2 columns</p>\n",
       "</div>"
      ],
      "text/plain": [
       "                                                   tweet label\n",
       "11457  @Otty1986 بتتشرطو وتدو نصايح كإنكم دول متقدمة ...    EG\n",
       "25609  مبارح كنت بسوق تقريبا ل 5 ساعات ومعي صحابي \\nا...    PL\n",
       "25831  لآ أتحمل مسؤولية أي حمار بيغلط وبيوقع بلساني :...    PL\n",
       "5172   الصبح من دونك قفل بيبانه\\nاصحي وخلي يكتسينا ضي...    OM\n",
       "8271   @maya_e2 والله تمام كل الامور تحت السيطرة\\nمرض...    SY\n",
       "...                                                  ...   ...\n",
       "30170               البنات ياربي 😱 بصااااير مش بنات 😒...    LY\n",
       "8093   @1knz1 بدك بروكسي بدك تعمل جيليبريك لانو البرا...    SY\n",
       "33770  عاد عيد الشوق واشواقي تگلم\\nعن غلاگ وگيف احبگ ...    KW\n",
       "20939  ليه الناس اللى كل ما نحاول نقرب منهم بيحاولوا ...    EG\n",
       "7736   @Amina68435787 @roroL47l  ايوى صافي ما بقا لين...    MA\n",
       "\n",
       "[62368 rows x 2 columns]"
      ]
     },
     "execution_count": 7,
     "metadata": {},
     "output_type": "execute_result"
    }
   ],
   "source": [
    "data=df.dropna()\n",
    "data"
   ]
  },
  {
   "cell_type": "code",
   "execution_count": 8,
   "metadata": {},
   "outputs": [
    {
     "data": {
      "text/plain": [
       "tweet    0\n",
       "label    0\n",
       "dtype: int64"
      ]
     },
     "execution_count": 8,
     "metadata": {},
     "output_type": "execute_result"
    }
   ],
   "source": [
    "data.isna().sum()"
   ]
  },
  {
   "cell_type": "code",
   "execution_count": 11,
   "metadata": {},
   "outputs": [],
   "source": [
    "#data.drop(['label'],axis='columns', inplace=True)\n"
   ]
  },
  {
   "cell_type": "markdown",
   "metadata": {},
   "source": [
    "## 2. Preprocessing"
   ]
  },
  {
   "cell_type": "markdown",
   "metadata": {},
   "source": [
    "##### 2.1 stop word list"
   ]
  },
  {
   "cell_type": "code",
   "execution_count": 12,
   "metadata": {},
   "outputs": [],
   "source": [
    "mystop = ['مثلا', 'الحمدلله', 'السنه', 'صوت', 'بو', 'تشوف',\n",
    " 'موضوع', 'فتره', 'بعيد', 'الصوره', 'ابدا', 'الحب', 'الحمد', 'معاهم', 'قلبك', 'وانتي', 'لحد', 'واحنا', 'عمرك', 'دوله',\n",
    " 'الحياه', 'امين', 'ابن', 'اخوي', 'مني', 'اسمه', 'ياخي', 'باقي', 'انتوا', 'حب', 'عندكم', 'شغل', 'كلامك', 'يسعد', 'تبي',\n",
    " 'مبروك', 'طلعت', 'شلون', 'تعرف', 'كثر', 'بلا', 'وبعدين', 'عام', 'عيب', 'مليون', 'رمضان', 'لاعب', 'البيت', 'نص', 'جديد',\n",
    " 'ثاني', 'عارفه', 'فلوس', 'الصبح', 'الاول', 'شيء', 'صوره', 'فقط', 'وفي', 'جاي', 'جماعه', 'بن', 'خلص', 'وان', 'شعب',\n",
    " 'واضح', 'تحت', 'طب', 'يلا', 'واذا', 'صارت', 'عنه', 'ضد', 'ماشي', 'لسه', 'يبي', 'بخير', 'روح',\n",
    " 'حبيبي', 'سنين', 'كثير', 'دول', 'زين', 'شوف', 'دايما', 'بكره', 'يجي', 'كلنا', 'الوقت', 'يبارك', 'اهم', 'معاه', 'مشكله',\n",
    " 'السعوديه', 'الكويت', 'اشوف', 'فكره', 'لين', 'انهم', 'مكان', 'حرام', 'لله', 'يطلع', 'اعرف', 'افضل', 'صحيح', 'فوق', 'ترى',\n",
    " 'اه', 'بعدين', 'المفروض', 'كبير','شكرا', 'تاني','ايه','احنا','وين','ليش','شو','الا', 'شفت', 'غلط', 'للاسف', 'تويتر',\n",
    " 'نفسك', 'ساعه', 'معك', 'البلد', 'بنت', 'محد','اهل', 'معاك', 'نفسه', 'اشي', 'ايش', 'المهم', 'بقى', 'انتو', 'مافي', 'منو',\n",
    " 'عاد', 'كلمه', 'اكبر', 'كلهم', 'والا', 'نفسي', 'المشكله', 'اقول', 'ايام', 'قاعد', 'يلي', 'زمان', 'الكل', 'انها', 'محمد',\n",
    " 'ام', 'طلع', 'بكل', 'شويه', 'تقول', 'عليكم', 'الواحد', 'صباح', 'قلت', 'خلاص', 'يصير', 'الموضوع', 'عندهم', 'العالم',\n",
    " 'الدنيا', 'الشعب', 'طبعا', 'طول', 'رب', 'الخير', 'اما', 'حلو', 'فعلا', 'مب', 'شوي', 'احد', 'وكل', 'وقت', 'فيهم', 'منك',\n",
    " 'شخص', 'قلبي', 'الكلام', 'عارف', 'منهم', 'اخر', 'كلها', 'هاي', 'حلوه', 'اكتر', 'يمكن', 'تكون', 'لانه', 'واللي', 'كلام',\n",
    " 'الحين', 'احلى', 'علشان', 'عندنا', 'بالله', 'الف', 'عندك', 'احسن', 'قطر', 'وحده', 'علينا', 'بدون', 'عنده', 'يقول', 'عادي',\n",
    " 'كله', 'عليها', 'دا', 'حق', 'ابو', 'عليهم', 'اصلا', 'فيك', 'مصر', 'اكيد', 'اللى', 'كتير', 'رح', 'ربنا', 'كمان',\n",
    " 'ليه', 'لان', 'اكثر', 'ال', 'وانت', 'انتي', 'طيب','سنه', 'كده', 'نفس', 'عندي', 'هيك','خير','صح','مين','شاء','مثل',\n",
    " 'انو','زي','صار','انك','عم','ربي','يارب','حاجه','كنت','اليوم','اني','اول','ممكن','مره','دي','وانا','ناس','راح','حد',\n",
    " 'لازم','يوم','ده','مو','علي','واحد','اي','الناس','يعني','عشان','اذا','انت','شي','هه','والله','مش','انا','الله','اللي',\n",
    " 'الجديد', 'عالم', 'طريقه', 'تونس', 'كفايه', 'ارجع', 'التغريده', 'الاخر', 'السبب', 'حسن', 'صعبه', 'راسك', 'تحكي', 'عبد', 'لمن', 'عني',\n",
    " 'والناس', 'عيونك', 'للناس', 'الصراحه', 'داخل', 'الامارات', 'رقم', 'العام', 'امريكا', 'حصل', 'خايف', 'لبنان', 'يتكلم', 'فرق', 'غريب',\n",
    " 'العربيه', 'ماشاء', 'رغم', 'علاقه', 'يرحمه', 'الهلال', 'خلك', 'فيديو', 'مبارك', 'موجوده', 'ساعات', 'انته', 'لينا', 'المباراه', 'مافيه', 'ماراح',\n",
    " 'شعور', 'ترجع', 'للحين', 'باي', 'شايف', 'باب', 'تميم', 'مدري', 'جاب', 'ولما', 'صاحب', 'يسلمك', 'صرت', 'الوطن', 'تانيه', 'الجيش',\n",
    " 'يرجع', 'يحفظك', 'يعمل', 'لقيت', 'يرحم', 'صدق', 'الموسم', 'خالد', 'اهو', 'الفلوس', 'اغلب', 'وكان', 'اسبوع', 'اخي', 'قصه', 'الاقل',\n",
    " 'هالشي', 'اغنيه', 'يستر', 'يابو', 'سنوات', 'عين', 'اسمع', 'يومين', 'بالضبط', 'مرات', 'كاس', 'كانو', 'خاصه', 'رجل', 'تستاهل', 'بعدها',\n",
    " 'قادر', 'يخليك', 'امه', 'وربي', 'صور', 'نعرف', 'راه', 'اقسم', 'طيبه', 'الوحيد', 'بتكون', 'السيسي', 'عيال', 'الدوري', 'لاني', 'ياخذ',\n",
    " 'بسرعه', 'رايح', 'امك', 'تقدر', 'تو', 'جديده', 'مساء', 'برضو', 'راسي', 'كفو', 'جمهور', 'مجرد', 'قاعده', 'مهم', 'ريال', 'غالي', 'اعمل',\n",
    " 'الشيخ', 'شاءالله', 'برا', 'صلاح', 'الحلوه', 'صباحك', 'الدين', 'اروح', 'بكون', 'عيد', 'بلاش', 'عرفت', 'معانا', 'اسمها', 'النوم', 'يلعب',\n",
    " 'شر', 'راس', 'خبر', 'ادري', 'الرجال', 'غيره', 'عايشين', 'وهم', 'واحده', 'شباب', 'فاهم', 'حالك', 'دور', 'اتمنى', 'حالي', 'الفيديو', 'بشكل',\n",
    " 'بالعكس', 'حسب', 'كامل', 'وجه', 'كويس', 'يستاهل', 'ليبيا', 'الشارع', 'جو', 'قوي', 'الطيب', 'نقول', 'غيرك', 'ابي', 'عنها', 'قريب', 'بكرا',\n",
    " 'تسلم', 'قالت', 'تعال', 'عارفين', 'تروح', 'راحت', 'فيني', 'حل', 'اقل', 'منكم', 'تجي', 'دام', 'بحب', 'بيكون', 'الليل', 'مباراه', 'الثاني',\n",
    " 'الوكيل', 'عايش', 'روحي', 'الارض', 'بلد', 'بسبب', 'ايران', 'معه', 'حاليا', 'فيكم', 'تقريبا', 'الاهلي', 'الشخص', 'العين', 'دخل', 'يشوف',\n",
    " 'فريق', 'ياريت', 'سبب', 'شكلك', 'العرب', 'مال', 'الفريق', 'ودي', 'يقدر', 'ماهو', 'بدل', 'يروح', 'بنات', 'بالي', 'قول', 'الجو', 'نبي', 'عمر',\n",
    " 'رئيس', 'اختي', 'اكل', 'دكتور', 'تصير', 'رد', 'احس', 'العمر', 'امس', 'حال', 'ورا', 'وعلى', 'بقي', 'اجمل', 'عيني', 'صعب', 'شن', 'وهي',\n",
    " 'وبس', 'كانوا', 'الدوله', 'صراحه', 'باذن', 'يبقى', 'كبيره', 'اعتقد', 'الشي', 'للي', 'اسم', 'صاير', 'ثانيه', 'نشوف', 'بالنسبه', 'سؤال', 'الحق',\n",
    " 'كنا', 'لكل', 'ماله', 'يقولون', 'انسان', 'بالك', 'جميل', 'مستحيل', 'الساعه', 'حياتي', 'احب', 'اساس', 'الان', 'الوضع', 'عمل', 'ولد', 'البنات',\n",
    " 'بصراحه', 'عنك', 'رجال', 'فين', 'يالله', 'الشباب', 'الايام', 'بلوك', 'تطلع', 'اتوقع', 'طبيعي', 'امي', 'قدام', 'ونعم', 'الحكومه', 'بيت', 'خل',\n",
    " 'حساب', 'القلب', 'شهر', 'بعرف', 'احمد', 'حبيبتي', 'انتم', 'جد', 'حاله', 'البنت', 'حتي', 'عمره', 'موجود', 'فينا', 'اللهم', 'حسبي', 'يعرف',\n",
    " 'بجد', 'عمري', 'العيد', 'عليا', 'معي', 'شكله', 'قلب',\n",
    " 'شوفي','شفته','وانتم','يوصل','خصوصا','وبين','لعبه','المسلسل','نوع','الحلقه','وحتى','اى','اش',\n",
    " 'عايشه','سعد','انشالله','كره','المكان','شهور','هديه','حلقه',\n",
    " 'اكتب','فاهمه','صغيره','كون','قالو','الملعب','هدف','البحر','كوره','الاولى',\n",
    " 'معروف','اقوى','تجيب','يضحك','خاطر','الصحه','واقف','مجلس','لحظه',\n",
    " 'حبيب','السالفه','الشوق','دخلت','الرئيس','ومع','العربي','مصر',\n",
    " 'روحك','بيهم', 'بتقول','يدخل','مسكين','فيلم','الثانيه','معناها',\n",
    " 'عمان','العراق','ياارب','افهم','الفكره','تغريده','بال',\n",
    " 'دقايق','اننا','الروح','حمار','شاف','الدول','يعطيك',\n",
    " 'تركيا','معاكم','تدخل','الورد','نور','طويل','تركي',\n",
    " 'شغله','جميع','خساره','وقتها','الكلب','بالخير','الغلط',\n",
    " 'الاتحاد','قيمه','جمال','اجل','نادي','برشلونه','تمام','قليل',\n",
    " 'ضروري','الطريق','معنا','المصري','قالك','تغير',\n",
    " 'السؤال','بعده','ميسي','بيقول','حكم','سلام','تعمل',\n",
    " 'عز','اولا','ترامب','ليله','بره','تسوي','الفرق','دايم',\n",
    " 'احبك','بالف','السياره','ماكو','مدريد','تمشي','النادي',\n",
    " 'الجاي','ثوره','احساس','يرد','وخلاص','مشاكل','ينزل','الباب','لانهم',\n",
    " 'قويه','الحكم','حمد','نعمه','معاها','هاذي','جنب','عبدالله','قصدي',\n",
    " 'الاكل','ثلاث','الانسان','قهوه','تدري','ايوه','وبعدها','مفروض','الجمهور','القصه',\n",
    " 'المنتخب','وجهه','الجامعه','غصب','الحلو','امل','الفيس','جايه',\n",
    " 'يمشي','بدري','الحل','خاص','جيت','سوريا','لسانك','كلامي',\n",
    " 'رحت','نزل','يسعدك','ونص','الخليج','علم','المره','الك',\n",
    " 'نفسهم','السلام','اشياء','الحال','حط','بصير','توصل',\n",
    " 'شيخ', 'برنامج','يعنى','الاخوان','مثلك','بدايه','العظيم','قالوا','الغالي',\n",
    " 'قوه','عيوني','حياتك','شخصيه','عمي','وسط','والي','طال',\n",
    " 'لانها','اجازه','المغرب','عامل','سعيد','الصح','دقيقه','استاذ',\n",
    " 'يلعن','غريبه', 'عربي','شئ','دليل','انكم','بينا',\n",
    " 'شكل','حرب','معلش','مبرووك','تحس','يقولك','الريال','يحب',\n",
    " 'وزير','مدرب','العافيه','الحقيقه','مالها','نسيت','عدل',\n",
    " 'دم','سمعت','خالص','وجهك','بنفس','اطلع','معقول','فرصه',\n",
    " 'خليك','مات','ولاد','البشر','مسلسل','الجنه','طريق','دائما',\n",
    " 'اكون','ويا','يوفقك','حي','حياه','البحرين','المصريين',\n",
    " 'عنهم','رايك','معاي','صغير','تتكلم','هوا','سلمان','نفسها',\n",
    " 'الكوره','ديما','كميه','قدر','حبيت','فايده','معهم','بطل',\n",
    " 'زى','النصر','يسوي','سالفه','يجيب','الشغل','زايد','محتاج',\n",
    " 'فاضي','كلب','كريم','بدها','زياده','ليها','مادري','اقدر',\n",
    " 'طالع','قناه','حر','وصلت','انام','عليكي','لعب','جميله'\n",
    ",'الامور','الخبر','ازاي','بقول','لانك','عقب','سبحان','وصل',\n",
    " 'إذ', 'إذا', 'إذما', 'إذن', 'أف', 'أقل', 'أكثر', 'ألا',\n",
    "'إلا', 'التي', 'الذي', 'الذين', 'اللاتي', 'اللائي',\n",
    " 'اللتان', 'اللتيا', 'اللتين', 'اللذان', 'اللذين', 'اللواتي', 'إلى', 'إليك', 'إليكم', 'إليكما', 'إليكن', \n",
    "  'أم', 'أما', 'أما', 'إما', 'أن', \n",
    "  'إن', 'إنا', 'أنا', 'أنت', 'أنتم', 'أنتما', 'أنتن', 'إنما', 'إنه', 'أنى', 'أنى', 'آه', 'آها',\n",
    " 'أو', 'أولاء', 'أولئك', 'أوه', 'آي', 'أي', 'أيها', 'إي', 'أين', 'أين', 'أينما'\n",
    ", 'إيه', 'بخ', 'بس', 'بعد', 'بعض', 'بك', 'بكم', 'بكم', 'بكما'\n",
    ", 'بكن', 'بل', 'بلى', 'بما', 'بماذا', 'بمن', 'بنا', 'به',\n",
    "'بها', 'بهم', 'بهما', 'بهن', 'بي', 'بين','و', 'بيد',\n",
    "'تلك', 'تلكم', 'تلكما', 'ته', 'تي', 'تين', 'تينك',\n",
    "'ثم', 'ثمة', 'حاشا', 'حبذا', 'حتى', 'حيث', 'حيثما',\n",
    "'حين', 'خلا', 'دون', 'ذا', 'ذات', 'ذاك', 'ذان', 'ذانك', 'ذلك',\n",
    "'ذلكم', 'ذلكما', 'ذلكن', 'ذه', 'ذو', 'ذوا', 'ذواتا',\n",
    "'ذواتي', 'ذي', 'ذين', 'ذينك', 'ريث', 'سوف', 'سوى', 'شتان', 'عدا',\n",
    "'عسى', 'عل', 'على', 'عليك', 'عليه', 'عما', 'عن', 'عند', 'غير',\n",
    "'فإذا', 'فإن', 'فلا', 'فمن', 'في', 'فيم', 'فيما', 'فيه', 'فيها',\n",
    "'قد', 'كأن', 'كأنما', 'كأي', 'كأين', 'كذا', 'كذلك', 'كل', 'كلا',\n",
    "'كلاهما', 'كلتا', 'كلما', 'كليكما', 'كليهما', 'كم', 'كم', 'كما',\n",
    "'كي', 'كيت', 'كيف', 'كيفما', 'لا', 'لاسيما', 'لدى', 'لست', 'لستم',\n",
    "'لستما', 'لستن', 'لسن', 'لسنا', 'لعل', 'لك', 'لكم', 'لكما',\n",
    "'لكن', 'لكنما', 'لكي', 'لكيلا', 'لم', 'لما', 'لن', 'لنا',\n",
    "'له', 'لها', 'لهم', 'لهما', 'لهن', 'لو', 'لولا', 'لوما',\n",
    "'لي', 'لئن', 'ليت', 'ليس', 'ليسا', 'ليست', 'ليستا', 'ليسوا', 'ما',\n",
    " 'ماذا', 'متى', 'مذ', 'مع', 'مما', 'ممن', 'من', 'منه', 'منها', 'منذ',\n",
    "'مه', 'مهما', 'نحن', 'نحو', 'نعم', 'ها', 'هاتان', 'هاته', 'هاتي',\n",
    "'هاتين', 'هاك', 'هاهنا', 'هذا', 'هذان', 'هذه', 'هذي', 'هذين', 'هكذا',\n",
    "'هل', 'هلا', 'هم', 'هما', 'هن', 'هنا', 'هناك', 'هنالك', 'هو', 'هؤلاء',\n",
    "'هي', 'هيا', 'هيت', 'هيهات', 'والذي', 'والذين', 'وإذ', 'وإذا', 'وإن',\n",
    "'ولا', 'ولكن', 'ولو', 'وما', 'ومن', 'وهو', 'يا'\n",
    ", 'من' , 'على', 'الى','هما', 'مع', 'هذه', 'التي', 'كما ', 'ذلك ', 'لذا', 'عن', 'في','ان','كان','كانت','الى','قبل','أنه','تم'\n",
    " ,'وقال','قال','فى','وقد','قد','ولم',\n",
    "'وذلك','ذلك','يكون','او'\n",
    ",'وهذه','وهي ','وبعد','وهذا','عندها','جدا','بأن','انه','الي','للاسف','عشان','طيب','علشان','بدون','اكيد','عشان','تويتر','انت','وين','والله','الناس','مين',\n",
    "'شخص','يعني','ليش','اكيد','ايه','كلام','يقول','تقول','عادي','عندك','قلبي','انتي','ناس','وانت',\n",
    "'اني','انا' ,'وانا','يارب','الله','كنت','الان','هاي','العفاريت', 'فلسطيني', 'حلب', 'حمص']\n"
   ]
  },
  {
   "cell_type": "code",
   "execution_count": 13,
   "metadata": {},
   "outputs": [],
   "source": [
    "stop_set = set(mystop) # To make the word it unique"
   ]
  },
  {
   "cell_type": "code",
   "execution_count": 14,
   "metadata": {},
   "outputs": [],
   "source": [
    "stop_ls = list(stop_set) # convert from set to list"
   ]
  },
  {
   "cell_type": "code",
   "execution_count": 15,
   "metadata": {},
   "outputs": [],
   "source": [
    "def clean_text(text):\n",
    "    # remove all tashkeel\n",
    "    \n",
    "    text = re.sub(\"[ًٌٍَُِّّْْٰۡۨـٖۗۗۖ]\", \"\", text)\n",
    "    #remove URLs\n",
    "    text = re.sub(r\"http\\S+\", \"\", text,flags=re.U)    \n",
    "\n",
    "    # Remove user @ references and '#' from tweet\n",
    "    text = re.sub(r'\\@\\w+|\\#\\w+','', text)\n",
    "    text = re.sub(\"\\n\", \" \", text)\n",
    "    text = re.sub(\"[^ضصثقفغعهخحجدطكمنتالبيسشئءؤرلاىةوزظٱإأآذ]\", \" \", text)\n",
    "    text = re.sub(\"سكس\", \" \", re.sub(\"نيك\", \" \", re.sub(\"قحبه\", \" \", re.sub(\"فحل\", \" \", re.sub(\"ديوث\", \" \", text)))))\n",
    "    text = re.sub(' +', ' ', text)  # removing unnecessary spaces\n",
    "\n",
    "    return text.strip()\n",
    "    "
   ]
  },
  {
   "cell_type": "code",
   "execution_count": 16,
   "metadata": {},
   "outputs": [],
   "source": [
    "def remove_repeated_letters(text):\n",
    "    \n",
    "    text = re.sub(r'(.)\\1+', r'\\1\\1', text)  \n",
    "   # text = re.sub(r'(.)\\1+', r'\\1', text) \n",
    "\n",
    "    return text"
   ]
  },
  {
   "cell_type": "code",
   "execution_count": 17,
   "metadata": {},
   "outputs": [],
   "source": [
    "def correct(text):\n",
    "\n",
    "    text = re.sub(\" ف \", \" في \", text)\n",
    "    text = re.sub(\" ع \", \" على \", text)\n",
    "\n",
    "    return text"
   ]
  },
  {
   "cell_type": "code",
   "execution_count": 18,
   "metadata": {},
   "outputs": [],
   "source": [
    "def simplify(text):\n",
    "\n",
    "    text = re.sub(\"[أإٱآ]\", \"ا\", text)\n",
    "    text = re.sub(\"ة\", \"ه\", text)\n",
    "\n",
    "    return text\n"
   ]
  },
  {
   "cell_type": "code",
   "execution_count": 19,
   "metadata": {},
   "outputs": [],
   "source": [
    "def remove_stopwords(text):\n",
    "     #Read a csv file containing 750 stopwords \n",
    "    stopwords = pd.read_csv(\"Data/Arabic-Stopword.csv\")\n",
    "    stop=stopwords['text'].tolist()\n",
    "    text_list = text.split(' ')  # to remove stopwords easily  \n",
    "    new_text_list = []\n",
    "   \n",
    "    for s in text_list:\n",
    "        if not (s in stop) and not(s in stop_ls): #Checks two lists\n",
    "            new_text_list.append(s)\n",
    "        \n",
    "    text = ' '.join(e for e in new_text_list)  # gather text together again\n",
    "\n",
    "    return text\n",
    "    "
   ]
  },
  {
   "cell_type": "code",
   "execution_count": 20,
   "metadata": {},
   "outputs": [],
   "source": [
    "def preprocess_text(text):\n",
    "    # clean text\n",
    "    text = clean_text(text)\n",
    "  \n",
    "    # remove repeated letters\n",
    "    text = remove_repeated_letters(text)\n",
    "\n",
    "    # correct misspelling\n",
    "    text = correct(text)\n",
    "   \n",
    "    # simplify\n",
    "    text = simplify(text)\n",
    "  \n",
    "    # remove stopwords\n",
    "    text = remove_stopwords(text)\n",
    "\n",
    "    return text"
   ]
  },
  {
   "cell_type": "code",
   "execution_count": 21,
   "metadata": {},
   "outputs": [
    {
     "name": "stderr",
     "output_type": "stream",
     "text": [
      "<ipython-input-21-9a8b8d64a8fe>:1: SettingWithCopyWarning: \n",
      "A value is trying to be set on a copy of a slice from a DataFrame.\n",
      "Try using .loc[row_indexer,col_indexer] = value instead\n",
      "\n",
      "See the caveats in the documentation: https://pandas.pydata.org/pandas-docs/stable/user_guide/indexing.html#returning-a-view-versus-a-copy\n",
      "  data[\"tweet\"] = data[\"tweet\"].apply(preprocess_text)\n"
     ]
    }
   ],
   "source": [
    "data[\"tweet\"] = data[\"tweet\"].apply(preprocess_text)"
   ]
  },
  {
   "cell_type": "markdown",
   "metadata": {},
   "source": [
    "###### Saved pre processed data in a csv file to avoid technical problems "
   ]
  },
  {
   "cell_type": "code",
   "execution_count": 22,
   "metadata": {},
   "outputs": [],
   "source": [
    "data.to_csv(\"Data/Dialect_clean.csv\")"
   ]
  },
  {
   "cell_type": "markdown",
   "metadata": {},
   "source": [
    "###### read the data from csc file instead of running all cells above"
   ]
  },
  {
   "cell_type": "code",
   "execution_count": 23,
   "metadata": {},
   "outputs": [],
   "source": [
    "data = pd.read_csv(\"Data/Dialect_clean.csv\",index_col=0)\n"
   ]
  },
  {
   "cell_type": "code",
   "execution_count": 24,
   "metadata": {},
   "outputs": [
    {
     "data": {
      "text/html": [
       "<div>\n",
       "<style scoped>\n",
       "    .dataframe tbody tr th:only-of-type {\n",
       "        vertical-align: middle;\n",
       "    }\n",
       "\n",
       "    .dataframe tbody tr th {\n",
       "        vertical-align: top;\n",
       "    }\n",
       "\n",
       "    .dataframe thead th {\n",
       "        text-align: right;\n",
       "    }\n",
       "</style>\n",
       "<table border=\"1\" class=\"dataframe\">\n",
       "  <thead>\n",
       "    <tr style=\"text-align: right;\">\n",
       "      <th></th>\n",
       "      <th>tweet</th>\n",
       "    </tr>\n",
       "  </thead>\n",
       "  <tbody>\n",
       "    <tr>\n",
       "      <th>11457</th>\n",
       "      <td>بتتشرطو وتدو نصايح كانكم متقدمه وناجحين اومال ...</td>\n",
       "    </tr>\n",
       "    <tr>\n",
       "      <th>25609</th>\n",
       "      <td>مبارح بسوق ومعي صحابي فجاه شب بتطلع فيا وبقلي ...</td>\n",
       "    </tr>\n",
       "    <tr>\n",
       "      <th>25831</th>\n",
       "      <td>اتحمل مسؤوليه بيغلط وبيوقع بلساني</td>\n",
       "    </tr>\n",
       "    <tr>\n",
       "      <th>5172</th>\n",
       "      <td>قفل بيبانه اصحي وخلي يكتسينا ضيه الكسلانه ويسع...</td>\n",
       "    </tr>\n",
       "    <tr>\n",
       "      <th>8271</th>\n",
       "      <td>السيطره مرضنا عتغير مرضه بسيطه كيفك اخبارك</td>\n",
       "    </tr>\n",
       "    <tr>\n",
       "      <th>...</th>\n",
       "      <td>...</td>\n",
       "    </tr>\n",
       "    <tr>\n",
       "      <th>30170</th>\n",
       "      <td>ياربي بصااير</td>\n",
       "    </tr>\n",
       "    <tr>\n",
       "      <th>8093</th>\n",
       "      <td>بدك بروكسي بدك جيليبريك لانو البرامج تبع البرو...</td>\n",
       "    </tr>\n",
       "    <tr>\n",
       "      <th>33770</th>\n",
       "      <td>واشواقي غلا يف واهتويت اتحلم تهنى ريت</td>\n",
       "    </tr>\n",
       "    <tr>\n",
       "      <th>20939</th>\n",
       "      <td>نحاول نقرب بيحاولوا باى يبعدوا المسفات نهايتها...</td>\n",
       "    </tr>\n",
       "    <tr>\n",
       "      <th>7736</th>\n",
       "      <td>ايوى صافي بقا فانز التداول والمواقع يعطيو رايه...</td>\n",
       "    </tr>\n",
       "  </tbody>\n",
       "</table>\n",
       "<p>62368 rows × 1 columns</p>\n",
       "</div>"
      ],
      "text/plain": [
       "                                                   tweet\n",
       "11457  بتتشرطو وتدو نصايح كانكم متقدمه وناجحين اومال ...\n",
       "25609  مبارح بسوق ومعي صحابي فجاه شب بتطلع فيا وبقلي ...\n",
       "25831                  اتحمل مسؤوليه بيغلط وبيوقع بلساني\n",
       "5172   قفل بيبانه اصحي وخلي يكتسينا ضيه الكسلانه ويسع...\n",
       "8271          السيطره مرضنا عتغير مرضه بسيطه كيفك اخبارك\n",
       "...                                                  ...\n",
       "30170                                       ياربي بصااير\n",
       "8093   بدك بروكسي بدك جيليبريك لانو البرامج تبع البرو...\n",
       "33770              واشواقي غلا يف واهتويت اتحلم تهنى ريت\n",
       "20939  نحاول نقرب بيحاولوا باى يبعدوا المسفات نهايتها...\n",
       "7736   ايوى صافي بقا فانز التداول والمواقع يعطيو رايه...\n",
       "\n",
       "[62368 rows x 1 columns]"
      ]
     },
     "execution_count": 24,
     "metadata": {},
     "output_type": "execute_result"
    }
   ],
   "source": [
    "data"
   ]
  },
  {
   "cell_type": "markdown",
   "metadata": {},
   "source": [
    "#### WordCloud after clean"
   ]
  },
  {
   "cell_type": "code",
   "execution_count": 26,
   "metadata": {},
   "outputs": [],
   "source": [
    "#### Needs install\n",
    "#pip install python-bidi\n",
    "#pip install arabic-reshaper\n",
    "#conda install -c conda-forge wordcloud=1.6.0 "
   ]
  },
  {
   "cell_type": "code",
   "execution_count": 27,
   "metadata": {},
   "outputs": [
    {
     "data": {
      "image/png": "[encoded data removed]",
      "text/plain": [
       "<PIL.Image.Image image mode=RGB size=500x300 at 0x7FD264726790>"
      ]
     },
     "execution_count": 27,
     "metadata": {},
     "output_type": "execute_result"
    }
   ],
   "source": [
    "#1-Visualize the 100 most frequent words used in all the tweets using a Word cloud.\n",
    "\n",
    "texts = ' '.join([txt for txt in data['tweet']])\n",
    "#te=removeWeirdChars(texts);\n",
    "reshaped_text = arabic_reshaper.reshape(texts)\n",
    "bidi_text = get_display(reshaped_text)\n",
    "wordcloud = WordCloud(max_words=100,width=500, height=300, background_color=\"white\",font_path='Data/ArbFONTS-NotoNaskhArabic-Regular.ttf').generate(bidi_text)\n",
    "wordcloud.to_file(\"imag/worCloud.png\")\n",
    "wordcloud.to_image()"
   ]
  },
  {
   "cell_type": "markdown",
   "metadata": {},
   "source": [
    "## 3. Vectorization"
   ]
  },
  {
   "cell_type": "markdown",
   "metadata": {},
   "source": [
    "#### 3.1 CountVectorization\n"
   ]
  },
  {
   "cell_type": "code",
   "execution_count": 28,
   "metadata": {},
   "outputs": [
    {
     "data": {
      "text/plain": [
       "(61530, 122715)"
      ]
     },
     "execution_count": 28,
     "metadata": {},
     "output_type": "execute_result"
    }
   ],
   "source": [
    "vectorizer= CountVectorizer()\n",
    "CV = vectorizer.fit_transform(data['tweet'])\n",
    "CV.shape"
   ]
  },
  {
   "cell_type": "code",
   "execution_count": 29,
   "metadata": {},
   "outputs": [
    {
     "data": {
      "text/html": [
       "<div>\n",
       "<style scoped>\n",
       "    .dataframe tbody tr th:only-of-type {\n",
       "        vertical-align: middle;\n",
       "    }\n",
       "\n",
       "    .dataframe tbody tr th {\n",
       "        vertical-align: top;\n",
       "    }\n",
       "\n",
       "    .dataframe thead th {\n",
       "        text-align: right;\n",
       "    }\n",
       "</style>\n",
       "<table border=\"1\" class=\"dataframe\">\n",
       "  <thead>\n",
       "    <tr style=\"text-align: right;\">\n",
       "      <th></th>\n",
       "      <th>ؤاحضنك</th>\n",
       "      <th>ؤالحمدلله</th>\n",
       "      <th>ؤالحياه</th>\n",
       "      <th>ؤاللؤلؤه</th>\n",
       "      <th>ؤالله</th>\n",
       "      <th>ؤاللي</th>\n",
       "      <th>ؤانا</th>\n",
       "      <th>ؤاناا</th>\n",
       "      <th>ؤانتهى</th>\n",
       "      <th>ؤايكم</th>\n",
       "      <th>...</th>\n",
       "      <th>ييعطيكوا</th>\n",
       "      <th>ييفرق</th>\n",
       "      <th>ييقا</th>\n",
       "      <th>ييكشف</th>\n",
       "      <th>ييل</th>\n",
       "      <th>ييلا</th>\n",
       "      <th>ييلس</th>\n",
       "      <th>ييلي</th>\n",
       "      <th>يين</th>\n",
       "      <th>ييه</th>\n",
       "    </tr>\n",
       "  </thead>\n",
       "  <tbody>\n",
       "    <tr>\n",
       "      <th>0</th>\n",
       "      <td>0</td>\n",
       "      <td>0</td>\n",
       "      <td>0</td>\n",
       "      <td>0</td>\n",
       "      <td>0</td>\n",
       "      <td>0</td>\n",
       "      <td>0</td>\n",
       "      <td>0</td>\n",
       "      <td>0</td>\n",
       "      <td>0</td>\n",
       "      <td>...</td>\n",
       "      <td>0</td>\n",
       "      <td>0</td>\n",
       "      <td>0</td>\n",
       "      <td>0</td>\n",
       "      <td>0</td>\n",
       "      <td>0</td>\n",
       "      <td>0</td>\n",
       "      <td>0</td>\n",
       "      <td>0</td>\n",
       "      <td>0</td>\n",
       "    </tr>\n",
       "    <tr>\n",
       "      <th>1</th>\n",
       "      <td>0</td>\n",
       "      <td>0</td>\n",
       "      <td>0</td>\n",
       "      <td>0</td>\n",
       "      <td>0</td>\n",
       "      <td>0</td>\n",
       "      <td>0</td>\n",
       "      <td>0</td>\n",
       "      <td>0</td>\n",
       "      <td>0</td>\n",
       "      <td>...</td>\n",
       "      <td>0</td>\n",
       "      <td>0</td>\n",
       "      <td>0</td>\n",
       "      <td>0</td>\n",
       "      <td>0</td>\n",
       "      <td>0</td>\n",
       "      <td>0</td>\n",
       "      <td>0</td>\n",
       "      <td>0</td>\n",
       "      <td>0</td>\n",
       "    </tr>\n",
       "    <tr>\n",
       "      <th>2</th>\n",
       "      <td>0</td>\n",
       "      <td>0</td>\n",
       "      <td>0</td>\n",
       "      <td>0</td>\n",
       "      <td>0</td>\n",
       "      <td>0</td>\n",
       "      <td>0</td>\n",
       "      <td>0</td>\n",
       "      <td>0</td>\n",
       "      <td>0</td>\n",
       "      <td>...</td>\n",
       "      <td>0</td>\n",
       "      <td>0</td>\n",
       "      <td>0</td>\n",
       "      <td>0</td>\n",
       "      <td>0</td>\n",
       "      <td>0</td>\n",
       "      <td>0</td>\n",
       "      <td>0</td>\n",
       "      <td>0</td>\n",
       "      <td>0</td>\n",
       "    </tr>\n",
       "    <tr>\n",
       "      <th>3</th>\n",
       "      <td>0</td>\n",
       "      <td>0</td>\n",
       "      <td>0</td>\n",
       "      <td>0</td>\n",
       "      <td>0</td>\n",
       "      <td>0</td>\n",
       "      <td>0</td>\n",
       "      <td>0</td>\n",
       "      <td>0</td>\n",
       "      <td>0</td>\n",
       "      <td>...</td>\n",
       "      <td>0</td>\n",
       "      <td>0</td>\n",
       "      <td>0</td>\n",
       "      <td>0</td>\n",
       "      <td>0</td>\n",
       "      <td>0</td>\n",
       "      <td>0</td>\n",
       "      <td>0</td>\n",
       "      <td>0</td>\n",
       "      <td>0</td>\n",
       "    </tr>\n",
       "    <tr>\n",
       "      <th>4</th>\n",
       "      <td>0</td>\n",
       "      <td>0</td>\n",
       "      <td>0</td>\n",
       "      <td>0</td>\n",
       "      <td>0</td>\n",
       "      <td>0</td>\n",
       "      <td>0</td>\n",
       "      <td>0</td>\n",
       "      <td>0</td>\n",
       "      <td>0</td>\n",
       "      <td>...</td>\n",
       "      <td>0</td>\n",
       "      <td>0</td>\n",
       "      <td>0</td>\n",
       "      <td>0</td>\n",
       "      <td>0</td>\n",
       "      <td>0</td>\n",
       "      <td>0</td>\n",
       "      <td>0</td>\n",
       "      <td>0</td>\n",
       "      <td>0</td>\n",
       "    </tr>\n",
       "    <tr>\n",
       "      <th>...</th>\n",
       "      <td>...</td>\n",
       "      <td>...</td>\n",
       "      <td>...</td>\n",
       "      <td>...</td>\n",
       "      <td>...</td>\n",
       "      <td>...</td>\n",
       "      <td>...</td>\n",
       "      <td>...</td>\n",
       "      <td>...</td>\n",
       "      <td>...</td>\n",
       "      <td>...</td>\n",
       "      <td>...</td>\n",
       "      <td>...</td>\n",
       "      <td>...</td>\n",
       "      <td>...</td>\n",
       "      <td>...</td>\n",
       "      <td>...</td>\n",
       "      <td>...</td>\n",
       "      <td>...</td>\n",
       "      <td>...</td>\n",
       "      <td>...</td>\n",
       "    </tr>\n",
       "    <tr>\n",
       "      <th>61525</th>\n",
       "      <td>0</td>\n",
       "      <td>0</td>\n",
       "      <td>0</td>\n",
       "      <td>0</td>\n",
       "      <td>0</td>\n",
       "      <td>0</td>\n",
       "      <td>0</td>\n",
       "      <td>0</td>\n",
       "      <td>0</td>\n",
       "      <td>0</td>\n",
       "      <td>...</td>\n",
       "      <td>0</td>\n",
       "      <td>0</td>\n",
       "      <td>0</td>\n",
       "      <td>0</td>\n",
       "      <td>0</td>\n",
       "      <td>0</td>\n",
       "      <td>0</td>\n",
       "      <td>0</td>\n",
       "      <td>0</td>\n",
       "      <td>0</td>\n",
       "    </tr>\n",
       "    <tr>\n",
       "      <th>61526</th>\n",
       "      <td>0</td>\n",
       "      <td>0</td>\n",
       "      <td>0</td>\n",
       "      <td>0</td>\n",
       "      <td>0</td>\n",
       "      <td>0</td>\n",
       "      <td>0</td>\n",
       "      <td>0</td>\n",
       "      <td>0</td>\n",
       "      <td>0</td>\n",
       "      <td>...</td>\n",
       "      <td>0</td>\n",
       "      <td>0</td>\n",
       "      <td>0</td>\n",
       "      <td>0</td>\n",
       "      <td>0</td>\n",
       "      <td>0</td>\n",
       "      <td>0</td>\n",
       "      <td>0</td>\n",
       "      <td>0</td>\n",
       "      <td>0</td>\n",
       "    </tr>\n",
       "    <tr>\n",
       "      <th>61527</th>\n",
       "      <td>0</td>\n",
       "      <td>0</td>\n",
       "      <td>0</td>\n",
       "      <td>0</td>\n",
       "      <td>0</td>\n",
       "      <td>0</td>\n",
       "      <td>0</td>\n",
       "      <td>0</td>\n",
       "      <td>0</td>\n",
       "      <td>0</td>\n",
       "      <td>...</td>\n",
       "      <td>0</td>\n",
       "      <td>0</td>\n",
       "      <td>0</td>\n",
       "      <td>0</td>\n",
       "      <td>0</td>\n",
       "      <td>0</td>\n",
       "      <td>0</td>\n",
       "      <td>0</td>\n",
       "      <td>0</td>\n",
       "      <td>0</td>\n",
       "    </tr>\n",
       "    <tr>\n",
       "      <th>61528</th>\n",
       "      <td>0</td>\n",
       "      <td>0</td>\n",
       "      <td>0</td>\n",
       "      <td>0</td>\n",
       "      <td>0</td>\n",
       "      <td>0</td>\n",
       "      <td>0</td>\n",
       "      <td>0</td>\n",
       "      <td>0</td>\n",
       "      <td>0</td>\n",
       "      <td>...</td>\n",
       "      <td>0</td>\n",
       "      <td>0</td>\n",
       "      <td>0</td>\n",
       "      <td>0</td>\n",
       "      <td>0</td>\n",
       "      <td>0</td>\n",
       "      <td>0</td>\n",
       "      <td>0</td>\n",
       "      <td>0</td>\n",
       "      <td>0</td>\n",
       "    </tr>\n",
       "    <tr>\n",
       "      <th>61529</th>\n",
       "      <td>0</td>\n",
       "      <td>0</td>\n",
       "      <td>0</td>\n",
       "      <td>0</td>\n",
       "      <td>0</td>\n",
       "      <td>0</td>\n",
       "      <td>0</td>\n",
       "      <td>0</td>\n",
       "      <td>0</td>\n",
       "      <td>0</td>\n",
       "      <td>...</td>\n",
       "      <td>0</td>\n",
       "      <td>0</td>\n",
       "      <td>0</td>\n",
       "      <td>0</td>\n",
       "      <td>0</td>\n",
       "      <td>0</td>\n",
       "      <td>0</td>\n",
       "      <td>0</td>\n",
       "      <td>0</td>\n",
       "      <td>0</td>\n",
       "    </tr>\n",
       "  </tbody>\n",
       "</table>\n",
       "<p>61530 rows × 122715 columns</p>\n",
       "</div>"
      ],
      "text/plain": [
       "       ؤاحضنك  ؤالحمدلله  ؤالحياه  ؤاللؤلؤه  ؤالله  ؤاللي  ؤانا  ؤاناا  \\\n",
       "0           0          0        0         0      0      0     0      0   \n",
       "1           0          0        0         0      0      0     0      0   \n",
       "2           0          0        0         0      0      0     0      0   \n",
       "3           0          0        0         0      0      0     0      0   \n",
       "4           0          0        0         0      0      0     0      0   \n",
       "...       ...        ...      ...       ...    ...    ...   ...    ...   \n",
       "61525       0          0        0         0      0      0     0      0   \n",
       "61526       0          0        0         0      0      0     0      0   \n",
       "61527       0          0        0         0      0      0     0      0   \n",
       "61528       0          0        0         0      0      0     0      0   \n",
       "61529       0          0        0         0      0      0     0      0   \n",
       "\n",
       "       ؤانتهى  ؤايكم  ...  ييعطيكوا  ييفرق  ييقا  ييكشف  ييل  ييلا  ييلس  \\\n",
       "0           0      0  ...         0      0     0      0    0     0     0   \n",
       "1           0      0  ...         0      0     0      0    0     0     0   \n",
       "2           0      0  ...         0      0     0      0    0     0     0   \n",
       "3           0      0  ...         0      0     0      0    0     0     0   \n",
       "4           0      0  ...         0      0     0      0    0     0     0   \n",
       "...       ...    ...  ...       ...    ...   ...    ...  ...   ...   ...   \n",
       "61525       0      0  ...         0      0     0      0    0     0     0   \n",
       "61526       0      0  ...         0      0     0      0    0     0     0   \n",
       "61527       0      0  ...         0      0     0      0    0     0     0   \n",
       "61528       0      0  ...         0      0     0      0    0     0     0   \n",
       "61529       0      0  ...         0      0     0      0    0     0     0   \n",
       "\n",
       "       ييلي  يين  ييه  \n",
       "0         0    0    0  \n",
       "1         0    0    0  \n",
       "2         0    0    0  \n",
       "3         0    0    0  \n",
       "4         0    0    0  \n",
       "...     ...  ...  ...  \n",
       "61525     0    0    0  \n",
       "61526     0    0    0  \n",
       "61527     0    0    0  \n",
       "61528     0    0    0  \n",
       "61529     0    0    0  \n",
       "\n",
       "[61530 rows x 122715 columns]"
      ]
     },
     "execution_count": 29,
     "metadata": {},
     "output_type": "execute_result"
    }
   ],
   "source": [
    "data_cv = pd.DataFrame(CV.toarray(),columns = vectorizer.get_feature_names())\n",
    "data_cv"
   ]
  },
  {
   "cell_type": "markdown",
   "metadata": {},
   "source": [
    "#### 3.2 CountVectorization Using (1, 2) Grams\n"
   ]
  },
  {
   "cell_type": "code",
   "execution_count": 30,
   "metadata": {},
   "outputs": [
    {
     "data": {
      "text/plain": [
       "(61530, 471490)"
      ]
     },
     "execution_count": 30,
     "metadata": {},
     "output_type": "execute_result"
    }
   ],
   "source": [
    "# the numbers are not removed here\n",
    "CV_grams = CountVectorizer(stop_words= stop_ls, ngram_range = (1,2))\n",
    "CV_grams_ = CV_grams.fit_transform(data['tweet'])\n",
    "CV_grams_.shape"
   ]
  },
  {
   "cell_type": "code",
   "execution_count": 31,
   "metadata": {},
   "outputs": [
    {
     "data": {
      "text/html": [
       "<div>\n",
       "<style scoped>\n",
       "    .dataframe tbody tr th:only-of-type {\n",
       "        vertical-align: middle;\n",
       "    }\n",
       "\n",
       "    .dataframe tbody tr th {\n",
       "        vertical-align: top;\n",
       "    }\n",
       "\n",
       "    .dataframe thead th {\n",
       "        text-align: right;\n",
       "    }\n",
       "</style>\n",
       "<table border=\"1\" class=\"dataframe\">\n",
       "  <thead>\n",
       "    <tr style=\"text-align: right;\">\n",
       "      <th></th>\n",
       "      <th>ؤاحضنك</th>\n",
       "      <th>ؤاحضنك وانسى</th>\n",
       "      <th>ؤالحمدلله</th>\n",
       "      <th>ؤالحمدلله اصابه</th>\n",
       "      <th>ؤالحياه</th>\n",
       "      <th>ؤالحياه قسمه</th>\n",
       "      <th>ؤاللؤلؤه</th>\n",
       "      <th>ؤاللؤلؤه والمجمعات</th>\n",
       "      <th>ؤالله</th>\n",
       "      <th>ؤالله كسر</th>\n",
       "      <th>...</th>\n",
       "      <th>ييلا بتكشي</th>\n",
       "      <th>ييلس</th>\n",
       "      <th>ييلس بدال</th>\n",
       "      <th>ييلي</th>\n",
       "      <th>ييلي بيصيبك</th>\n",
       "      <th>يين</th>\n",
       "      <th>يين لمنير</th>\n",
       "      <th>ييه</th>\n",
       "      <th>ييه زوزو</th>\n",
       "      <th>ييه قلتلك</th>\n",
       "    </tr>\n",
       "  </thead>\n",
       "  <tbody>\n",
       "    <tr>\n",
       "      <th>0</th>\n",
       "      <td>0</td>\n",
       "      <td>0</td>\n",
       "      <td>0</td>\n",
       "      <td>0</td>\n",
       "      <td>0</td>\n",
       "      <td>0</td>\n",
       "      <td>0</td>\n",
       "      <td>0</td>\n",
       "      <td>0</td>\n",
       "      <td>0</td>\n",
       "      <td>...</td>\n",
       "      <td>0</td>\n",
       "      <td>0</td>\n",
       "      <td>0</td>\n",
       "      <td>0</td>\n",
       "      <td>0</td>\n",
       "      <td>0</td>\n",
       "      <td>0</td>\n",
       "      <td>0</td>\n",
       "      <td>0</td>\n",
       "      <td>0</td>\n",
       "    </tr>\n",
       "    <tr>\n",
       "      <th>1</th>\n",
       "      <td>0</td>\n",
       "      <td>0</td>\n",
       "      <td>0</td>\n",
       "      <td>0</td>\n",
       "      <td>0</td>\n",
       "      <td>0</td>\n",
       "      <td>0</td>\n",
       "      <td>0</td>\n",
       "      <td>0</td>\n",
       "      <td>0</td>\n",
       "      <td>...</td>\n",
       "      <td>0</td>\n",
       "      <td>0</td>\n",
       "      <td>0</td>\n",
       "      <td>0</td>\n",
       "      <td>0</td>\n",
       "      <td>0</td>\n",
       "      <td>0</td>\n",
       "      <td>0</td>\n",
       "      <td>0</td>\n",
       "      <td>0</td>\n",
       "    </tr>\n",
       "    <tr>\n",
       "      <th>2</th>\n",
       "      <td>0</td>\n",
       "      <td>0</td>\n",
       "      <td>0</td>\n",
       "      <td>0</td>\n",
       "      <td>0</td>\n",
       "      <td>0</td>\n",
       "      <td>0</td>\n",
       "      <td>0</td>\n",
       "      <td>0</td>\n",
       "      <td>0</td>\n",
       "      <td>...</td>\n",
       "      <td>0</td>\n",
       "      <td>0</td>\n",
       "      <td>0</td>\n",
       "      <td>0</td>\n",
       "      <td>0</td>\n",
       "      <td>0</td>\n",
       "      <td>0</td>\n",
       "      <td>0</td>\n",
       "      <td>0</td>\n",
       "      <td>0</td>\n",
       "    </tr>\n",
       "    <tr>\n",
       "      <th>3</th>\n",
       "      <td>0</td>\n",
       "      <td>0</td>\n",
       "      <td>0</td>\n",
       "      <td>0</td>\n",
       "      <td>0</td>\n",
       "      <td>0</td>\n",
       "      <td>0</td>\n",
       "      <td>0</td>\n",
       "      <td>0</td>\n",
       "      <td>0</td>\n",
       "      <td>...</td>\n",
       "      <td>0</td>\n",
       "      <td>0</td>\n",
       "      <td>0</td>\n",
       "      <td>0</td>\n",
       "      <td>0</td>\n",
       "      <td>0</td>\n",
       "      <td>0</td>\n",
       "      <td>0</td>\n",
       "      <td>0</td>\n",
       "      <td>0</td>\n",
       "    </tr>\n",
       "    <tr>\n",
       "      <th>4</th>\n",
       "      <td>0</td>\n",
       "      <td>0</td>\n",
       "      <td>0</td>\n",
       "      <td>0</td>\n",
       "      <td>0</td>\n",
       "      <td>0</td>\n",
       "      <td>0</td>\n",
       "      <td>0</td>\n",
       "      <td>0</td>\n",
       "      <td>0</td>\n",
       "      <td>...</td>\n",
       "      <td>0</td>\n",
       "      <td>0</td>\n",
       "      <td>0</td>\n",
       "      <td>0</td>\n",
       "      <td>0</td>\n",
       "      <td>0</td>\n",
       "      <td>0</td>\n",
       "      <td>0</td>\n",
       "      <td>0</td>\n",
       "      <td>0</td>\n",
       "    </tr>\n",
       "    <tr>\n",
       "      <th>...</th>\n",
       "      <td>...</td>\n",
       "      <td>...</td>\n",
       "      <td>...</td>\n",
       "      <td>...</td>\n",
       "      <td>...</td>\n",
       "      <td>...</td>\n",
       "      <td>...</td>\n",
       "      <td>...</td>\n",
       "      <td>...</td>\n",
       "      <td>...</td>\n",
       "      <td>...</td>\n",
       "      <td>...</td>\n",
       "      <td>...</td>\n",
       "      <td>...</td>\n",
       "      <td>...</td>\n",
       "      <td>...</td>\n",
       "      <td>...</td>\n",
       "      <td>...</td>\n",
       "      <td>...</td>\n",
       "      <td>...</td>\n",
       "      <td>...</td>\n",
       "    </tr>\n",
       "    <tr>\n",
       "      <th>61525</th>\n",
       "      <td>0</td>\n",
       "      <td>0</td>\n",
       "      <td>0</td>\n",
       "      <td>0</td>\n",
       "      <td>0</td>\n",
       "      <td>0</td>\n",
       "      <td>0</td>\n",
       "      <td>0</td>\n",
       "      <td>0</td>\n",
       "      <td>0</td>\n",
       "      <td>...</td>\n",
       "      <td>0</td>\n",
       "      <td>0</td>\n",
       "      <td>0</td>\n",
       "      <td>0</td>\n",
       "      <td>0</td>\n",
       "      <td>0</td>\n",
       "      <td>0</td>\n",
       "      <td>0</td>\n",
       "      <td>0</td>\n",
       "      <td>0</td>\n",
       "    </tr>\n",
       "    <tr>\n",
       "      <th>61526</th>\n",
       "      <td>0</td>\n",
       "      <td>0</td>\n",
       "      <td>0</td>\n",
       "      <td>0</td>\n",
       "      <td>0</td>\n",
       "      <td>0</td>\n",
       "      <td>0</td>\n",
       "      <td>0</td>\n",
       "      <td>0</td>\n",
       "      <td>0</td>\n",
       "      <td>...</td>\n",
       "      <td>0</td>\n",
       "      <td>0</td>\n",
       "      <td>0</td>\n",
       "      <td>0</td>\n",
       "      <td>0</td>\n",
       "      <td>0</td>\n",
       "      <td>0</td>\n",
       "      <td>0</td>\n",
       "      <td>0</td>\n",
       "      <td>0</td>\n",
       "    </tr>\n",
       "    <tr>\n",
       "      <th>61527</th>\n",
       "      <td>0</td>\n",
       "      <td>0</td>\n",
       "      <td>0</td>\n",
       "      <td>0</td>\n",
       "      <td>0</td>\n",
       "      <td>0</td>\n",
       "      <td>0</td>\n",
       "      <td>0</td>\n",
       "      <td>0</td>\n",
       "      <td>0</td>\n",
       "      <td>...</td>\n",
       "      <td>0</td>\n",
       "      <td>0</td>\n",
       "      <td>0</td>\n",
       "      <td>0</td>\n",
       "      <td>0</td>\n",
       "      <td>0</td>\n",
       "      <td>0</td>\n",
       "      <td>0</td>\n",
       "      <td>0</td>\n",
       "      <td>0</td>\n",
       "    </tr>\n",
       "    <tr>\n",
       "      <th>61528</th>\n",
       "      <td>0</td>\n",
       "      <td>0</td>\n",
       "      <td>0</td>\n",
       "      <td>0</td>\n",
       "      <td>0</td>\n",
       "      <td>0</td>\n",
       "      <td>0</td>\n",
       "      <td>0</td>\n",
       "      <td>0</td>\n",
       "      <td>0</td>\n",
       "      <td>...</td>\n",
       "      <td>0</td>\n",
       "      <td>0</td>\n",
       "      <td>0</td>\n",
       "      <td>0</td>\n",
       "      <td>0</td>\n",
       "      <td>0</td>\n",
       "      <td>0</td>\n",
       "      <td>0</td>\n",
       "      <td>0</td>\n",
       "      <td>0</td>\n",
       "    </tr>\n",
       "    <tr>\n",
       "      <th>61529</th>\n",
       "      <td>0</td>\n",
       "      <td>0</td>\n",
       "      <td>0</td>\n",
       "      <td>0</td>\n",
       "      <td>0</td>\n",
       "      <td>0</td>\n",
       "      <td>0</td>\n",
       "      <td>0</td>\n",
       "      <td>0</td>\n",
       "      <td>0</td>\n",
       "      <td>...</td>\n",
       "      <td>0</td>\n",
       "      <td>0</td>\n",
       "      <td>0</td>\n",
       "      <td>0</td>\n",
       "      <td>0</td>\n",
       "      <td>0</td>\n",
       "      <td>0</td>\n",
       "      <td>0</td>\n",
       "      <td>0</td>\n",
       "      <td>0</td>\n",
       "    </tr>\n",
       "  </tbody>\n",
       "</table>\n",
       "<p>61530 rows × 471490 columns</p>\n",
       "</div>"
      ],
      "text/plain": [
       "       ؤاحضنك  ؤاحضنك وانسى  ؤالحمدلله  ؤالحمدلله اصابه  ؤالحياه  \\\n",
       "0           0             0          0                0        0   \n",
       "1           0             0          0                0        0   \n",
       "2           0             0          0                0        0   \n",
       "3           0             0          0                0        0   \n",
       "4           0             0          0                0        0   \n",
       "...       ...           ...        ...              ...      ...   \n",
       "61525       0             0          0                0        0   \n",
       "61526       0             0          0                0        0   \n",
       "61527       0             0          0                0        0   \n",
       "61528       0             0          0                0        0   \n",
       "61529       0             0          0                0        0   \n",
       "\n",
       "       ؤالحياه قسمه  ؤاللؤلؤه  ؤاللؤلؤه والمجمعات  ؤالله  ؤالله كسر  ...  \\\n",
       "0                 0         0                   0      0          0  ...   \n",
       "1                 0         0                   0      0          0  ...   \n",
       "2                 0         0                   0      0          0  ...   \n",
       "3                 0         0                   0      0          0  ...   \n",
       "4                 0         0                   0      0          0  ...   \n",
       "...             ...       ...                 ...    ...        ...  ...   \n",
       "61525             0         0                   0      0          0  ...   \n",
       "61526             0         0                   0      0          0  ...   \n",
       "61527             0         0                   0      0          0  ...   \n",
       "61528             0         0                   0      0          0  ...   \n",
       "61529             0         0                   0      0          0  ...   \n",
       "\n",
       "       ييلا بتكشي  ييلس  ييلس بدال  ييلي  ييلي بيصيبك  يين  يين لمنير  ييه  \\\n",
       "0               0     0          0     0            0    0          0    0   \n",
       "1               0     0          0     0            0    0          0    0   \n",
       "2               0     0          0     0            0    0          0    0   \n",
       "3               0     0          0     0            0    0          0    0   \n",
       "4               0     0          0     0            0    0          0    0   \n",
       "...           ...   ...        ...   ...          ...  ...        ...  ...   \n",
       "61525           0     0          0     0            0    0          0    0   \n",
       "61526           0     0          0     0            0    0          0    0   \n",
       "61527           0     0          0     0            0    0          0    0   \n",
       "61528           0     0          0     0            0    0          0    0   \n",
       "61529           0     0          0     0            0    0          0    0   \n",
       "\n",
       "       ييه زوزو  ييه قلتلك  \n",
       "0             0          0  \n",
       "1             0          0  \n",
       "2             0          0  \n",
       "3             0          0  \n",
       "4             0          0  \n",
       "...         ...        ...  \n",
       "61525         0          0  \n",
       "61526         0          0  \n",
       "61527         0          0  \n",
       "61528         0          0  \n",
       "61529         0          0  \n",
       "\n",
       "[61530 rows x 471490 columns]"
      ]
     },
     "execution_count": 31,
     "metadata": {},
     "output_type": "execute_result"
    }
   ],
   "source": [
    "data_grams = pd.DataFrame(CV_grams_.toarray(),columns = CV_grams.get_feature_names())\n",
    "data_grams"
   ]
  },
  {
   "cell_type": "markdown",
   "metadata": {},
   "source": [
    "#### 3.3 TfidfVectorizer Using (1, 2) Grams"
   ]
  },
  {
   "cell_type": "code",
   "execution_count": 32,
   "metadata": {},
   "outputs": [
    {
     "data": {
      "text/plain": [
       "(61530, 471490)"
      ]
     },
     "execution_count": 32,
     "metadata": {},
     "output_type": "execute_result"
    }
   ],
   "source": [
    "CV_TF_IDF = TfidfVectorizer(stop_words= stop_ls,ngram_range = (1,2))\n",
    "CV_TF_IDF_ = CV_TF_IDF.fit_transform(data['tweet'])\n",
    "CV_TF_IDF_.shape"
   ]
  },
  {
   "cell_type": "code",
   "execution_count": 33,
   "metadata": {},
   "outputs": [
    {
     "data": {
      "text/html": [
       "<div>\n",
       "<style scoped>\n",
       "    .dataframe tbody tr th:only-of-type {\n",
       "        vertical-align: middle;\n",
       "    }\n",
       "\n",
       "    .dataframe tbody tr th {\n",
       "        vertical-align: top;\n",
       "    }\n",
       "\n",
       "    .dataframe thead th {\n",
       "        text-align: right;\n",
       "    }\n",
       "</style>\n",
       "<table border=\"1\" class=\"dataframe\">\n",
       "  <thead>\n",
       "    <tr style=\"text-align: right;\">\n",
       "      <th></th>\n",
       "      <th>ؤاحضنك</th>\n",
       "      <th>ؤاحضنك وانسى</th>\n",
       "      <th>ؤالحمدلله</th>\n",
       "      <th>ؤالحمدلله اصابه</th>\n",
       "      <th>ؤالحياه</th>\n",
       "      <th>ؤالحياه قسمه</th>\n",
       "      <th>ؤاللؤلؤه</th>\n",
       "      <th>ؤاللؤلؤه والمجمعات</th>\n",
       "      <th>ؤالله</th>\n",
       "      <th>ؤالله كسر</th>\n",
       "      <th>...</th>\n",
       "      <th>ييلا بتكشي</th>\n",
       "      <th>ييلس</th>\n",
       "      <th>ييلس بدال</th>\n",
       "      <th>ييلي</th>\n",
       "      <th>ييلي بيصيبك</th>\n",
       "      <th>يين</th>\n",
       "      <th>يين لمنير</th>\n",
       "      <th>ييه</th>\n",
       "      <th>ييه زوزو</th>\n",
       "      <th>ييه قلتلك</th>\n",
       "    </tr>\n",
       "  </thead>\n",
       "  <tbody>\n",
       "    <tr>\n",
       "      <th>0</th>\n",
       "      <td>0.0</td>\n",
       "      <td>0.0</td>\n",
       "      <td>0.0</td>\n",
       "      <td>0.0</td>\n",
       "      <td>0.0</td>\n",
       "      <td>0.0</td>\n",
       "      <td>0.0</td>\n",
       "      <td>0.0</td>\n",
       "      <td>0.0</td>\n",
       "      <td>0.0</td>\n",
       "      <td>...</td>\n",
       "      <td>0.0</td>\n",
       "      <td>0.0</td>\n",
       "      <td>0.0</td>\n",
       "      <td>0.0</td>\n",
       "      <td>0.0</td>\n",
       "      <td>0.0</td>\n",
       "      <td>0.0</td>\n",
       "      <td>0.0</td>\n",
       "      <td>0.0</td>\n",
       "      <td>0.0</td>\n",
       "    </tr>\n",
       "    <tr>\n",
       "      <th>1</th>\n",
       "      <td>0.0</td>\n",
       "      <td>0.0</td>\n",
       "      <td>0.0</td>\n",
       "      <td>0.0</td>\n",
       "      <td>0.0</td>\n",
       "      <td>0.0</td>\n",
       "      <td>0.0</td>\n",
       "      <td>0.0</td>\n",
       "      <td>0.0</td>\n",
       "      <td>0.0</td>\n",
       "      <td>...</td>\n",
       "      <td>0.0</td>\n",
       "      <td>0.0</td>\n",
       "      <td>0.0</td>\n",
       "      <td>0.0</td>\n",
       "      <td>0.0</td>\n",
       "      <td>0.0</td>\n",
       "      <td>0.0</td>\n",
       "      <td>0.0</td>\n",
       "      <td>0.0</td>\n",
       "      <td>0.0</td>\n",
       "    </tr>\n",
       "    <tr>\n",
       "      <th>2</th>\n",
       "      <td>0.0</td>\n",
       "      <td>0.0</td>\n",
       "      <td>0.0</td>\n",
       "      <td>0.0</td>\n",
       "      <td>0.0</td>\n",
       "      <td>0.0</td>\n",
       "      <td>0.0</td>\n",
       "      <td>0.0</td>\n",
       "      <td>0.0</td>\n",
       "      <td>0.0</td>\n",
       "      <td>...</td>\n",
       "      <td>0.0</td>\n",
       "      <td>0.0</td>\n",
       "      <td>0.0</td>\n",
       "      <td>0.0</td>\n",
       "      <td>0.0</td>\n",
       "      <td>0.0</td>\n",
       "      <td>0.0</td>\n",
       "      <td>0.0</td>\n",
       "      <td>0.0</td>\n",
       "      <td>0.0</td>\n",
       "    </tr>\n",
       "    <tr>\n",
       "      <th>3</th>\n",
       "      <td>0.0</td>\n",
       "      <td>0.0</td>\n",
       "      <td>0.0</td>\n",
       "      <td>0.0</td>\n",
       "      <td>0.0</td>\n",
       "      <td>0.0</td>\n",
       "      <td>0.0</td>\n",
       "      <td>0.0</td>\n",
       "      <td>0.0</td>\n",
       "      <td>0.0</td>\n",
       "      <td>...</td>\n",
       "      <td>0.0</td>\n",
       "      <td>0.0</td>\n",
       "      <td>0.0</td>\n",
       "      <td>0.0</td>\n",
       "      <td>0.0</td>\n",
       "      <td>0.0</td>\n",
       "      <td>0.0</td>\n",
       "      <td>0.0</td>\n",
       "      <td>0.0</td>\n",
       "      <td>0.0</td>\n",
       "    </tr>\n",
       "    <tr>\n",
       "      <th>4</th>\n",
       "      <td>0.0</td>\n",
       "      <td>0.0</td>\n",
       "      <td>0.0</td>\n",
       "      <td>0.0</td>\n",
       "      <td>0.0</td>\n",
       "      <td>0.0</td>\n",
       "      <td>0.0</td>\n",
       "      <td>0.0</td>\n",
       "      <td>0.0</td>\n",
       "      <td>0.0</td>\n",
       "      <td>...</td>\n",
       "      <td>0.0</td>\n",
       "      <td>0.0</td>\n",
       "      <td>0.0</td>\n",
       "      <td>0.0</td>\n",
       "      <td>0.0</td>\n",
       "      <td>0.0</td>\n",
       "      <td>0.0</td>\n",
       "      <td>0.0</td>\n",
       "      <td>0.0</td>\n",
       "      <td>0.0</td>\n",
       "    </tr>\n",
       "    <tr>\n",
       "      <th>...</th>\n",
       "      <td>...</td>\n",
       "      <td>...</td>\n",
       "      <td>...</td>\n",
       "      <td>...</td>\n",
       "      <td>...</td>\n",
       "      <td>...</td>\n",
       "      <td>...</td>\n",
       "      <td>...</td>\n",
       "      <td>...</td>\n",
       "      <td>...</td>\n",
       "      <td>...</td>\n",
       "      <td>...</td>\n",
       "      <td>...</td>\n",
       "      <td>...</td>\n",
       "      <td>...</td>\n",
       "      <td>...</td>\n",
       "      <td>...</td>\n",
       "      <td>...</td>\n",
       "      <td>...</td>\n",
       "      <td>...</td>\n",
       "      <td>...</td>\n",
       "    </tr>\n",
       "    <tr>\n",
       "      <th>61525</th>\n",
       "      <td>0.0</td>\n",
       "      <td>0.0</td>\n",
       "      <td>0.0</td>\n",
       "      <td>0.0</td>\n",
       "      <td>0.0</td>\n",
       "      <td>0.0</td>\n",
       "      <td>0.0</td>\n",
       "      <td>0.0</td>\n",
       "      <td>0.0</td>\n",
       "      <td>0.0</td>\n",
       "      <td>...</td>\n",
       "      <td>0.0</td>\n",
       "      <td>0.0</td>\n",
       "      <td>0.0</td>\n",
       "      <td>0.0</td>\n",
       "      <td>0.0</td>\n",
       "      <td>0.0</td>\n",
       "      <td>0.0</td>\n",
       "      <td>0.0</td>\n",
       "      <td>0.0</td>\n",
       "      <td>0.0</td>\n",
       "    </tr>\n",
       "    <tr>\n",
       "      <th>61526</th>\n",
       "      <td>0.0</td>\n",
       "      <td>0.0</td>\n",
       "      <td>0.0</td>\n",
       "      <td>0.0</td>\n",
       "      <td>0.0</td>\n",
       "      <td>0.0</td>\n",
       "      <td>0.0</td>\n",
       "      <td>0.0</td>\n",
       "      <td>0.0</td>\n",
       "      <td>0.0</td>\n",
       "      <td>...</td>\n",
       "      <td>0.0</td>\n",
       "      <td>0.0</td>\n",
       "      <td>0.0</td>\n",
       "      <td>0.0</td>\n",
       "      <td>0.0</td>\n",
       "      <td>0.0</td>\n",
       "      <td>0.0</td>\n",
       "      <td>0.0</td>\n",
       "      <td>0.0</td>\n",
       "      <td>0.0</td>\n",
       "    </tr>\n",
       "    <tr>\n",
       "      <th>61527</th>\n",
       "      <td>0.0</td>\n",
       "      <td>0.0</td>\n",
       "      <td>0.0</td>\n",
       "      <td>0.0</td>\n",
       "      <td>0.0</td>\n",
       "      <td>0.0</td>\n",
       "      <td>0.0</td>\n",
       "      <td>0.0</td>\n",
       "      <td>0.0</td>\n",
       "      <td>0.0</td>\n",
       "      <td>...</td>\n",
       "      <td>0.0</td>\n",
       "      <td>0.0</td>\n",
       "      <td>0.0</td>\n",
       "      <td>0.0</td>\n",
       "      <td>0.0</td>\n",
       "      <td>0.0</td>\n",
       "      <td>0.0</td>\n",
       "      <td>0.0</td>\n",
       "      <td>0.0</td>\n",
       "      <td>0.0</td>\n",
       "    </tr>\n",
       "    <tr>\n",
       "      <th>61528</th>\n",
       "      <td>0.0</td>\n",
       "      <td>0.0</td>\n",
       "      <td>0.0</td>\n",
       "      <td>0.0</td>\n",
       "      <td>0.0</td>\n",
       "      <td>0.0</td>\n",
       "      <td>0.0</td>\n",
       "      <td>0.0</td>\n",
       "      <td>0.0</td>\n",
       "      <td>0.0</td>\n",
       "      <td>...</td>\n",
       "      <td>0.0</td>\n",
       "      <td>0.0</td>\n",
       "      <td>0.0</td>\n",
       "      <td>0.0</td>\n",
       "      <td>0.0</td>\n",
       "      <td>0.0</td>\n",
       "      <td>0.0</td>\n",
       "      <td>0.0</td>\n",
       "      <td>0.0</td>\n",
       "      <td>0.0</td>\n",
       "    </tr>\n",
       "    <tr>\n",
       "      <th>61529</th>\n",
       "      <td>0.0</td>\n",
       "      <td>0.0</td>\n",
       "      <td>0.0</td>\n",
       "      <td>0.0</td>\n",
       "      <td>0.0</td>\n",
       "      <td>0.0</td>\n",
       "      <td>0.0</td>\n",
       "      <td>0.0</td>\n",
       "      <td>0.0</td>\n",
       "      <td>0.0</td>\n",
       "      <td>...</td>\n",
       "      <td>0.0</td>\n",
       "      <td>0.0</td>\n",
       "      <td>0.0</td>\n",
       "      <td>0.0</td>\n",
       "      <td>0.0</td>\n",
       "      <td>0.0</td>\n",
       "      <td>0.0</td>\n",
       "      <td>0.0</td>\n",
       "      <td>0.0</td>\n",
       "      <td>0.0</td>\n",
       "    </tr>\n",
       "  </tbody>\n",
       "</table>\n",
       "<p>61530 rows × 471490 columns</p>\n",
       "</div>"
      ],
      "text/plain": [
       "       ؤاحضنك  ؤاحضنك وانسى  ؤالحمدلله  ؤالحمدلله اصابه  ؤالحياه  \\\n",
       "0         0.0           0.0        0.0              0.0      0.0   \n",
       "1         0.0           0.0        0.0              0.0      0.0   \n",
       "2         0.0           0.0        0.0              0.0      0.0   \n",
       "3         0.0           0.0        0.0              0.0      0.0   \n",
       "4         0.0           0.0        0.0              0.0      0.0   \n",
       "...       ...           ...        ...              ...      ...   \n",
       "61525     0.0           0.0        0.0              0.0      0.0   \n",
       "61526     0.0           0.0        0.0              0.0      0.0   \n",
       "61527     0.0           0.0        0.0              0.0      0.0   \n",
       "61528     0.0           0.0        0.0              0.0      0.0   \n",
       "61529     0.0           0.0        0.0              0.0      0.0   \n",
       "\n",
       "       ؤالحياه قسمه  ؤاللؤلؤه  ؤاللؤلؤه والمجمعات  ؤالله  ؤالله كسر  ...  \\\n",
       "0               0.0       0.0                 0.0    0.0        0.0  ...   \n",
       "1               0.0       0.0                 0.0    0.0        0.0  ...   \n",
       "2               0.0       0.0                 0.0    0.0        0.0  ...   \n",
       "3               0.0       0.0                 0.0    0.0        0.0  ...   \n",
       "4               0.0       0.0                 0.0    0.0        0.0  ...   \n",
       "...             ...       ...                 ...    ...        ...  ...   \n",
       "61525           0.0       0.0                 0.0    0.0        0.0  ...   \n",
       "61526           0.0       0.0                 0.0    0.0        0.0  ...   \n",
       "61527           0.0       0.0                 0.0    0.0        0.0  ...   \n",
       "61528           0.0       0.0                 0.0    0.0        0.0  ...   \n",
       "61529           0.0       0.0                 0.0    0.0        0.0  ...   \n",
       "\n",
       "       ييلا بتكشي  ييلس  ييلس بدال  ييلي  ييلي بيصيبك  يين  يين لمنير  ييه  \\\n",
       "0             0.0   0.0        0.0   0.0          0.0  0.0        0.0  0.0   \n",
       "1             0.0   0.0        0.0   0.0          0.0  0.0        0.0  0.0   \n",
       "2             0.0   0.0        0.0   0.0          0.0  0.0        0.0  0.0   \n",
       "3             0.0   0.0        0.0   0.0          0.0  0.0        0.0  0.0   \n",
       "4             0.0   0.0        0.0   0.0          0.0  0.0        0.0  0.0   \n",
       "...           ...   ...        ...   ...          ...  ...        ...  ...   \n",
       "61525         0.0   0.0        0.0   0.0          0.0  0.0        0.0  0.0   \n",
       "61526         0.0   0.0        0.0   0.0          0.0  0.0        0.0  0.0   \n",
       "61527         0.0   0.0        0.0   0.0          0.0  0.0        0.0  0.0   \n",
       "61528         0.0   0.0        0.0   0.0          0.0  0.0        0.0  0.0   \n",
       "61529         0.0   0.0        0.0   0.0          0.0  0.0        0.0  0.0   \n",
       "\n",
       "       ييه زوزو  ييه قلتلك  \n",
       "0           0.0        0.0  \n",
       "1           0.0        0.0  \n",
       "2           0.0        0.0  \n",
       "3           0.0        0.0  \n",
       "4           0.0        0.0  \n",
       "...         ...        ...  \n",
       "61525       0.0        0.0  \n",
       "61526       0.0        0.0  \n",
       "61527       0.0        0.0  \n",
       "61528       0.0        0.0  \n",
       "61529       0.0        0.0  \n",
       "\n",
       "[61530 rows x 471490 columns]"
      ]
     },
     "execution_count": 33,
     "metadata": {},
     "output_type": "execute_result"
    }
   ],
   "source": [
    "df_tf = pd.DataFrame(CV_TF_IDF_.toarray(),columns = CV_TF_IDF.get_feature_names())\n",
    "df_tf"
   ]
  },
  {
   "cell_type": "markdown",
   "metadata": {},
   "source": [
    "## 4. Topic modeling"
   ]
  },
  {
   "cell_type": "code",
   "execution_count": 34,
   "metadata": {},
   "outputs": [],
   "source": [
    "def display_dialicts(model, feature_names, no_top_words, dialict=None):\n",
    "    for ix, dial in enumerate(model.components_):\n",
    "        if not dialict or not dialict[ix]:\n",
    "            print(\"\\nDialect \", ix)\n",
    "        else:\n",
    "            print(\"\\nDialect: '\",dialict[ix],\"'\")\n",
    "        print(\", \".join([feature_names[i]\n",
    "                        for i in dial.argsort()[:-no_top_words - 1:-1]]))"
   ]
  },
  {
   "cell_type": "markdown",
   "metadata": {},
   "source": [
    "#### 4.1 LSA"
   ]
  },
  {
   "cell_type": "markdown",
   "metadata": {},
   "source": [
    "###### 4.1.1 LSA and CountVectorization"
   ]
  },
  {
   "cell_type": "code",
   "execution_count": 35,
   "metadata": {},
   "outputs": [
    {
     "data": {
      "text/plain": [
       "array([0.00204028, 0.00170768, 0.0015271 , 0.00150822])"
      ]
     },
     "execution_count": 35,
     "metadata": {},
     "output_type": "execute_result"
    }
   ],
   "source": [
    "\n",
    "lsa_ = TruncatedSVD(4)\n",
    "tw_dial = lsa_.fit_transform(CV)\n",
    "# the percentage of variance that is attributed by each of the selected components/topics\n",
    "lsa_.explained_variance_ratio_"
   ]
  },
  {
   "cell_type": "code",
   "execution_count": 36,
   "metadata": {},
   "outputs": [
    {
     "name": "stdout",
     "output_type": "stream",
     "text": [
      "\n",
      "Dialect  0\n",
      "فنن, ياشبااب, فن, شغلنا, الباص, فرحه, هاد, بالسلامه, ببعض, اتمسكوا, تاراتاتاتاتاا, ياصبايا, اعتقال, عقبال, منيح, حزام, بالايد, عالقلب, الايد, سلميه, مواليد, ميادين, اهلا, ورده, غياب, منوره, الزرق, طلوا, ياشباب, العفو\n",
      "\n",
      "Dialect  1\n",
      "الفجر, صلاه, كسم, وادان, ادان, ينعل, ابوكو, وش, ركعتين, شنو, ومافيها, هاد, همج, الفريضه, اختك, ليل, ومش, بدي, ترا, خيرا, اذان, ركعتا, التراويح, وجعير, وصلاه, نهار, القران, صحيت, الصلاه, بنص\n",
      "\n",
      "Dialect  2\n",
      "شنو, هاد, ليك, بيها, مواليد, الزرق, وش, ادا, اعتقلوه, هدا, عايزين, واش, زول, حدا, عايز, البلاد, بتاريخ, ليا, ومش, ديال, باش, نهار, علاش, حنا, مفيش, المدرب, كدا, ديل, كاين, بدي\n",
      "\n",
      "Dialect  3\n",
      "مواليد, الزرق, اعتقلوه, بتاريخ, حاجز, تبع, ماحدا, بيعرف, دمشق, اخدوه, سوري, بيته, الامن, قريه, محمود, ريف, طالب, ادلب, درعا, متزوج, حدا, دير, حماه, العسكري, بيشتغل, بحمص, مصطفى, الجويه, بشهر, بابا\n"
     ]
    }
   ],
   "source": [
    "display_dialicts(lsa_, vectorizer.get_feature_names(),30)"
   ]
  },
  {
   "cell_type": "markdown",
   "metadata": {},
   "source": [
    "###### 4.1.2 LSA and TfidfVectorizer"
   ]
  },
  {
   "cell_type": "code",
   "execution_count": 37,
   "metadata": {},
   "outputs": [
    {
     "data": {
      "text/plain": [
       "TruncatedSVD(n_components=4)"
      ]
     },
     "execution_count": 37,
     "metadata": {},
     "output_type": "execute_result"
    }
   ],
   "source": [
    "lsa = TruncatedSVD(n_components=4, random_state=None)\n",
    "lsa.fit(CV_TF_IDF_)"
   ]
  },
  {
   "cell_type": "code",
   "execution_count": 38,
   "metadata": {},
   "outputs": [
    {
     "name": "stdout",
     "output_type": "stream",
     "text": [
      "\n",
      "Dialect  0\n",
      "الزرق, مواليد, اعتقلوه, اعتقلوه الزرق, بتاريخ, مواليد اعتقلوه, الزرق بتاريخ, حاجز, الزرق تبع, تبع, ماحدا, دمشق, بيعرف, ماحدا بيعرف, الزرق حاجز, سوري, بيته, تبع الامن, الامن, قريه, الزرق بيته, درعا, اخدوه, ادلب, بتاريخ حاجز, ريف, محمود, اخدوه الزرق, متزوج, الامن العسكري, دير, مواليد دمشق, حماه, العسكري, طالب, دمشق اعتقلوه, سوري سوري, بشهر, بيشتغل, بحمص, الجويه, مصطفى, وليد, مواليد سوري, بابا, حماه مواليد, بابا عمرو, التل, الشام, مواليد اخدوه\n",
      "\n",
      "Dialect  1\n",
      "شنو, هاد, ليك, دى, عايز, بيها, بدي, بيها شنو, ياغالي, شنو شنو, كدا, زول, شنو دارو, شنو هاد, ليا, جيل شنو, وش, واش, شنو الغباء, شنو ميلان, بيبي شنو, شنو يظحك, يظحك, الدليل شنو, راضيه شنو, شنو بيشوف, دارو, شنو التخلف, شنو العنصريه, الليله, شنو قصته, دافعين شنو, شنو رسول, ياخذه شنو, البيتزا شنو, شنو قولنا, شنو السمحه, شنو ينصرهم, جيل, ميلان, شنو الكياته, شنو نبكي, علاقتو, علاقتو شنو, البيتزا, حنا, الكياته, شنو محتاره, شنو رسمتي, شنو فهموني\n",
      "\n",
      "Dialect  2\n",
      "هاد, حدا, الحكي, ديال, بعمرك, بحال, توا, كلو, بدك, بدي, بحال هاد, فنن, بزااف, واش, باش, كاين, مفيش, هاد الحكي, بدو, هاد الاسبوع, فنن فنن, الاسبوع, هون, كاين هاد, بزاف, رايي, عندو, رايي هاد, الزفت هاد, هاد هالسنه, لسا, الشهر, اييش هاد, هاد الليله, بدنا, يوصلك, بسمع, كدا, اييش, هاد اكييد, هاد القوم, زعما, هاد للنوم, اهاب, الزفت, هاد يوصلك, الليله, هاد بضحكني, هالسنه, اكييد\n",
      "\n",
      "Dialect  3\n",
      "حدا, دى, بدي, حدا حدا, فنن, ياغالي, منيح, لانو, متل, حدا مبسوط, فنن فنن, بيعرف, مبسوط, وش, بحياتي, بحكي, نحنا, منيح حدا, هى, مشان, بهيك, تخلي حدا, ومش, بعدك, والفال, تخلي, التاريخ حدا, حدا صدقني, حدا متلي, حدا يسالني, ريت, ياا, متلي, بالموضوع حدا, حدا بحياتي, بتوقف حدا, بدنا, عاساس حدا, حدا سايبه, يسالني, ضل, بحبك, هالدنيا, صدقني, بيصحى بهيك, حدا بيصحى, عاساس, نصيحتي حدا, يفهمني, ازا\n"
     ]
    }
   ],
   "source": [
    "display_dialicts(model=lsa, feature_names=CV_TF_IDF.get_feature_names(), no_top_words=50)"
   ]
  },
  {
   "cell_type": "markdown",
   "metadata": {},
   "source": [
    "#### 4.2 NMF "
   ]
  },
  {
   "cell_type": "markdown",
   "metadata": {},
   "source": [
    "###### 4.2.1 NMF and CountVectorization"
   ]
  },
  {
   "cell_type": "code",
   "execution_count": 39,
   "metadata": {},
   "outputs": [
    {
     "name": "stderr",
     "output_type": "stream",
     "text": [
      "/Users/batoul/Applications/anaconda3/lib/python3.8/site-packages/sklearn/decomposition/_nmf.py:312: FutureWarning: The 'init' value, when 'init=None' and n_components is less than n_samples and n_features, will be changed from 'nndsvd' to 'nndsvda' in 1.1 (renaming of 0.26).\n",
      "  warnings.warn((\"The 'init' value, when 'init=None' and \"\n"
     ]
    },
    {
     "data": {
      "text/plain": [
       "NMF(n_components=4)"
      ]
     },
     "execution_count": 39,
     "metadata": {},
     "output_type": "execute_result"
    }
   ],
   "source": [
    "NMF_model = NMF(n_components=4, random_state=None)\n",
    "NMF_model.fit(CV)"
   ]
  },
  {
   "cell_type": "code",
   "execution_count": 40,
   "metadata": {},
   "outputs": [
    {
     "name": "stdout",
     "output_type": "stream",
     "text": [
      "\n",
      "Dialect  0\n",
      "فنن, ياشبااب, فن, شغلنا, الباص, فرحه, هاد, بالسلامه, ببعض, اتمسكوا, تاراتاتاتاتاا, ياصبايا, اعتقال, عقبال, منيح, حزام, بالايد, عالقلب, الايد, سلميه, ميادين, اهلا, ورده, غياب, منوره, طلوا, ياشباب, العفو, مادخله, بالسلاامه\n",
      "\n",
      "Dialect  1\n",
      "الفجر, صلاه, كسم, وادان, ادان, ينعل, ابوكو, وش, ركعتين, ومافيها, همج, الفريضه, ليل, اختك, خيرا, اذان, ركعتا, التراويح, وجعير, وصلاه, نهار, القران, صحيت, الصلاه, بدي, بنص, نمت, تقبل, عاوزين, هاد\n",
      "\n",
      "Dialect  2\n",
      "شنو, هاد, ليك, بيها, ادا, وش, هدا, عايزين, واش, باش, زول, البلاد, عايز, حدا, ليا, ديال, نهار, علاش, حنا, المدرب, ديل, كاين, الجايه, عملو, نعمل, ومش, الليله, داك, بتكلم, فانز\n",
      "\n",
      "Dialect  3\n",
      "مواليد, الزرق, اعتقلوه, بتاريخ, حاجز, تبع, ماحدا, بيعرف, دمشق, اخدوه, سوري, بيته, الامن, قريه, محمود, ريف, طالب, ادلب, درعا, متزوج, حدا, دير, العسكري, حماه, بيشتغل, بحمص, مصطفى, الجويه, بشهر, بابا\n"
     ]
    }
   ],
   "source": [
    "display_dialicts(model=NMF_model, feature_names=vectorizer.get_feature_names(), no_top_words=30)"
   ]
  },
  {
   "cell_type": "markdown",
   "metadata": {},
   "source": [
    "##### 4.2.2 NMF and TfidfVectorizer"
   ]
  },
  {
   "cell_type": "code",
   "execution_count": 41,
   "metadata": {},
   "outputs": [
    {
     "name": "stderr",
     "output_type": "stream",
     "text": [
      "/Users/batoul/Applications/anaconda3/lib/python3.8/site-packages/sklearn/decomposition/_nmf.py:312: FutureWarning: The 'init' value, when 'init=None' and n_components is less than n_samples and n_features, will be changed from 'nndsvd' to 'nndsvda' in 1.1 (renaming of 0.26).\n",
      "  warnings.warn((\"The 'init' value, when 'init=None' and \"\n"
     ]
    },
    {
     "data": {
      "text/plain": [
       "NMF(n_components=4)"
      ]
     },
     "execution_count": 41,
     "metadata": {},
     "output_type": "execute_result"
    }
   ],
   "source": [
    "NMF_model = NMF(n_components=4, random_state=None)\n",
    "NMF_model.fit(CV_TF_IDF_)"
   ]
  },
  {
   "cell_type": "code",
   "execution_count": 42,
   "metadata": {},
   "outputs": [
    {
     "name": "stdout",
     "output_type": "stream",
     "text": [
      "\n",
      "Dialect  0\n",
      "الزرق, مواليد, اعتقلوه, اعتقلوه الزرق, بتاريخ, مواليد اعتقلوه, الزرق بتاريخ, حاجز, الزرق تبع, تبع, ماحدا, دمشق, بيعرف, ماحدا بيعرف, الزرق حاجز, سوري, بيته, تبع الامن, الامن, قريه, الزرق بيته, درعا, اخدوه, ادلب, بتاريخ حاجز, ريف, محمود, اخدوه الزرق, متزوج, الامن العسكري\n",
      "\n",
      "Dialect  1\n",
      "شنو, ليك, بيها, بيها شنو, شنو شنو, زول, كدا, شنو دارو, جيل شنو, شنو الغباء, شنو ميلان, بيبي شنو, شنو يظحك, يظحك, الدليل شنو, راضيه شنو, شنو بيشوف, شنو التخلف, وش, شنو العنصريه, شنو هاد, دارو, شنو قصته, دافعين شنو, ياخذه شنو, شنو رسول, البيتزا شنو, شنو قولنا, شنو السمحه, شنو ينصرهم\n",
      "\n",
      "Dialect  2\n",
      "هاد, فنن, الحكي, ديال, بحال, بحال هاد, فنن فنن, بزااف, واش, كلو, باش, كاين, هاد الحكي, بدو, بدي, هاد الاسبوع, ليا, الاسبوع, بزاف, كاين هاد, رايي هاد, رايي, الزفت هاد, هاد هالسنه, اييش هاد, هاد الليله, الشهر, زعما, يوصلك, هون\n",
      "\n",
      "Dialect  3\n",
      "حدا, بدي, دى, حدا حدا, منيح, لانو, متل, حدا مبسوط, بيعرف, مبسوط, وش, نحنا, بحياتي, مشان, منيح حدا, تخلي حدا, بهيك, بعدك, ريت, بحكي, تخلي, ومش, التاريخ حدا, حدا صدقني, بدك, حدا متلي, حدا يسالني, عندو, ياا, متلي\n"
     ]
    }
   ],
   "source": [
    "display_dialicts(model=NMF_model, feature_names=CV_TF_IDF.get_feature_names(), no_top_words=30)"
   ]
  },
  {
   "cell_type": "markdown",
   "metadata": {},
   "source": [
    "###### Because the results of LSA with CV TF IDF appear to be superior to those of the other, we'll use it to label the data.\n"
   ]
  },
  {
   "cell_type": "markdown",
   "metadata": {},
   "source": [
    "## 5. Lable Tweet"
   ]
  },
  {
   "cell_type": "code",
   "execution_count": 43,
   "metadata": {},
   "outputs": [
    {
     "name": "stderr",
     "output_type": "stream",
     "text": [
      "<ipython-input-43-3429af72f473>:3: SettingWithCopyWarning: \n",
      "A value is trying to be set on a copy of a slice from a DataFrame.\n",
      "Try using .loc[row_indexer,col_indexer] = value instead\n",
      "\n",
      "See the caveats in the documentation: https://pandas.pydata.org/pandas-docs/stable/user_guide/indexing.html#returning-a-view-versus-a-copy\n",
      "  data['topics'] = topic_results.argmax(axis=1)\n"
     ]
    }
   ],
   "source": [
    "topic_results = lsa.transform(CV_TF_IDF_)\n",
    "\n",
    "data['topics'] = topic_results.argmax(axis=1)"
   ]
  },
  {
   "cell_type": "code",
   "execution_count": 44,
   "metadata": {},
   "outputs": [],
   "source": [
    "data_lable = data.reset_index()"
   ]
  },
  {
   "cell_type": "code",
   "execution_count": 45,
   "metadata": {},
   "outputs": [
    {
     "data": {
      "text/html": [
       "<div>\n",
       "<style scoped>\n",
       "    .dataframe tbody tr th:only-of-type {\n",
       "        vertical-align: middle;\n",
       "    }\n",
       "\n",
       "    .dataframe tbody tr th {\n",
       "        vertical-align: top;\n",
       "    }\n",
       "\n",
       "    .dataframe thead th {\n",
       "        text-align: right;\n",
       "    }\n",
       "</style>\n",
       "<table border=\"1\" class=\"dataframe\">\n",
       "  <thead>\n",
       "    <tr style=\"text-align: right;\">\n",
       "      <th></th>\n",
       "      <th>index</th>\n",
       "      <th>tweet</th>\n",
       "      <th>topics</th>\n",
       "    </tr>\n",
       "  </thead>\n",
       "  <tbody>\n",
       "    <tr>\n",
       "      <th>0</th>\n",
       "      <td>11457</td>\n",
       "      <td>بتتشرطو وتدو نصايح كانكم متقدمه وناجحين اومال ...</td>\n",
       "      <td>2</td>\n",
       "    </tr>\n",
       "    <tr>\n",
       "      <th>1</th>\n",
       "      <td>25609</td>\n",
       "      <td>مبارح بسوق ومعي صحابي فجاه شب بتطلع فيا وبقلي ...</td>\n",
       "      <td>2</td>\n",
       "    </tr>\n",
       "    <tr>\n",
       "      <th>2</th>\n",
       "      <td>25831</td>\n",
       "      <td>اتحمل مسؤوليه بيغلط وبيوقع بلساني</td>\n",
       "      <td>3</td>\n",
       "    </tr>\n",
       "    <tr>\n",
       "      <th>3</th>\n",
       "      <td>5172</td>\n",
       "      <td>قفل بيبانه اصحي وخلي يكتسينا ضيه الكسلانه ويسع...</td>\n",
       "      <td>2</td>\n",
       "    </tr>\n",
       "    <tr>\n",
       "      <th>4</th>\n",
       "      <td>8271</td>\n",
       "      <td>السيطره مرضنا عتغير مرضه بسيطه كيفك اخبارك</td>\n",
       "      <td>3</td>\n",
       "    </tr>\n",
       "  </tbody>\n",
       "</table>\n",
       "</div>"
      ],
      "text/plain": [
       "   index                                              tweet  topics\n",
       "0  11457  بتتشرطو وتدو نصايح كانكم متقدمه وناجحين اومال ...       2\n",
       "1  25609  مبارح بسوق ومعي صحابي فجاه شب بتطلع فيا وبقلي ...       2\n",
       "2  25831                  اتحمل مسؤوليه بيغلط وبيوقع بلساني       3\n",
       "3   5172  قفل بيبانه اصحي وخلي يكتسينا ضيه الكسلانه ويسع...       2\n",
       "4   8271         السيطره مرضنا عتغير مرضه بسيطه كيفك اخبارك       3"
      ]
     },
     "execution_count": 45,
     "metadata": {},
     "output_type": "execute_result"
    }
   ],
   "source": [
    "data_lable.head()"
   ]
  },
  {
   "cell_type": "code",
   "execution_count": 46,
   "metadata": {},
   "outputs": [],
   "source": [
    "conditions = [data_lable['topics'] == 0, data_lable['topics'] == 1 ,data_lable['topics'] == 2, data_lable['topics'] == 3]\n"
   ]
  },
  {
   "cell_type": "code",
   "execution_count": 47,
   "metadata": {},
   "outputs": [],
   "source": [
    "lable =[\"Nilotic\",\"Gulf\",\"Moroccan\",\"Levantine\"]"
   ]
  },
  {
   "cell_type": "code",
   "execution_count": 48,
   "metadata": {},
   "outputs": [],
   "source": [
    "data_lable['Dialect'] = np.select(conditions, lable,default = np.nan)"
   ]
  },
  {
   "cell_type": "code",
   "execution_count": 49,
   "metadata": {},
   "outputs": [
    {
     "data": {
      "text/html": [
       "<div>\n",
       "<style scoped>\n",
       "    .dataframe tbody tr th:only-of-type {\n",
       "        vertical-align: middle;\n",
       "    }\n",
       "\n",
       "    .dataframe tbody tr th {\n",
       "        vertical-align: top;\n",
       "    }\n",
       "\n",
       "    .dataframe thead th {\n",
       "        text-align: right;\n",
       "    }\n",
       "</style>\n",
       "<table border=\"1\" class=\"dataframe\">\n",
       "  <thead>\n",
       "    <tr style=\"text-align: right;\">\n",
       "      <th></th>\n",
       "      <th>index</th>\n",
       "      <th>tweet</th>\n",
       "      <th>topics</th>\n",
       "      <th>Dialect</th>\n",
       "    </tr>\n",
       "  </thead>\n",
       "  <tbody>\n",
       "    <tr>\n",
       "      <th>0</th>\n",
       "      <td>11457</td>\n",
       "      <td>بتتشرطو وتدو نصايح كانكم متقدمه وناجحين اومال ...</td>\n",
       "      <td>2</td>\n",
       "      <td>Moroccan</td>\n",
       "    </tr>\n",
       "    <tr>\n",
       "      <th>1</th>\n",
       "      <td>25609</td>\n",
       "      <td>مبارح بسوق ومعي صحابي فجاه شب بتطلع فيا وبقلي ...</td>\n",
       "      <td>2</td>\n",
       "      <td>Moroccan</td>\n",
       "    </tr>\n",
       "    <tr>\n",
       "      <th>2</th>\n",
       "      <td>25831</td>\n",
       "      <td>اتحمل مسؤوليه بيغلط وبيوقع بلساني</td>\n",
       "      <td>3</td>\n",
       "      <td>Levantine</td>\n",
       "    </tr>\n",
       "    <tr>\n",
       "      <th>3</th>\n",
       "      <td>5172</td>\n",
       "      <td>قفل بيبانه اصحي وخلي يكتسينا ضيه الكسلانه ويسع...</td>\n",
       "      <td>2</td>\n",
       "      <td>Moroccan</td>\n",
       "    </tr>\n",
       "    <tr>\n",
       "      <th>4</th>\n",
       "      <td>8271</td>\n",
       "      <td>السيطره مرضنا عتغير مرضه بسيطه كيفك اخبارك</td>\n",
       "      <td>3</td>\n",
       "      <td>Levantine</td>\n",
       "    </tr>\n",
       "  </tbody>\n",
       "</table>\n",
       "</div>"
      ],
      "text/plain": [
       "   index                                              tweet  topics    Dialect\n",
       "0  11457  بتتشرطو وتدو نصايح كانكم متقدمه وناجحين اومال ...       2   Moroccan\n",
       "1  25609  مبارح بسوق ومعي صحابي فجاه شب بتطلع فيا وبقلي ...       2   Moroccan\n",
       "2  25831                  اتحمل مسؤوليه بيغلط وبيوقع بلساني       3  Levantine\n",
       "3   5172  قفل بيبانه اصحي وخلي يكتسينا ضيه الكسلانه ويسع...       2   Moroccan\n",
       "4   8271         السيطره مرضنا عتغير مرضه بسيطه كيفك اخبارك       3  Levantine"
      ]
     },
     "execution_count": 49,
     "metadata": {},
     "output_type": "execute_result"
    }
   ],
   "source": [
    "data_lable.head()"
   ]
  },
  {
   "cell_type": "code",
   "execution_count": 50,
   "metadata": {},
   "outputs": [],
   "source": [
    "topics=pd.DataFrame(topic_results, columns=['Topic_'+str(x) for x in range(topic_results.shape[1])])"
   ]
  },
  {
   "cell_type": "code",
   "execution_count": 51,
   "metadata": {},
   "outputs": [],
   "source": [
    "topics = topics.reset_index()\n"
   ]
  },
  {
   "cell_type": "code",
   "execution_count": 52,
   "metadata": {},
   "outputs": [
    {
     "data": {
      "text/html": [
       "<div>\n",
       "<style scoped>\n",
       "    .dataframe tbody tr th:only-of-type {\n",
       "        vertical-align: middle;\n",
       "    }\n",
       "\n",
       "    .dataframe tbody tr th {\n",
       "        vertical-align: top;\n",
       "    }\n",
       "\n",
       "    .dataframe thead th {\n",
       "        text-align: right;\n",
       "    }\n",
       "</style>\n",
       "<table border=\"1\" class=\"dataframe\">\n",
       "  <thead>\n",
       "    <tr style=\"text-align: right;\">\n",
       "      <th></th>\n",
       "      <th>index</th>\n",
       "      <th>Topic_0</th>\n",
       "      <th>Topic_1</th>\n",
       "      <th>Topic_2</th>\n",
       "      <th>Topic_3</th>\n",
       "    </tr>\n",
       "  </thead>\n",
       "  <tbody>\n",
       "    <tr>\n",
       "      <th>0</th>\n",
       "      <td>0</td>\n",
       "      <td>0.000083</td>\n",
       "      <td>0.000412</td>\n",
       "      <td>0.000504</td>\n",
       "      <td>0.000489</td>\n",
       "    </tr>\n",
       "    <tr>\n",
       "      <th>1</th>\n",
       "      <td>1</td>\n",
       "      <td>0.000970</td>\n",
       "      <td>0.001470</td>\n",
       "      <td>0.002382</td>\n",
       "      <td>0.002091</td>\n",
       "    </tr>\n",
       "    <tr>\n",
       "      <th>2</th>\n",
       "      <td>2</td>\n",
       "      <td>0.000058</td>\n",
       "      <td>0.000059</td>\n",
       "      <td>0.000188</td>\n",
       "      <td>0.000916</td>\n",
       "    </tr>\n",
       "    <tr>\n",
       "      <th>3</th>\n",
       "      <td>3</td>\n",
       "      <td>0.000090</td>\n",
       "      <td>0.000139</td>\n",
       "      <td>0.000613</td>\n",
       "      <td>0.000125</td>\n",
       "    </tr>\n",
       "    <tr>\n",
       "      <th>4</th>\n",
       "      <td>4</td>\n",
       "      <td>-0.000094</td>\n",
       "      <td>0.000548</td>\n",
       "      <td>0.001308</td>\n",
       "      <td>0.002030</td>\n",
       "    </tr>\n",
       "    <tr>\n",
       "      <th>5</th>\n",
       "      <td>5</td>\n",
       "      <td>0.000137</td>\n",
       "      <td>0.001450</td>\n",
       "      <td>-0.000069</td>\n",
       "      <td>0.000166</td>\n",
       "    </tr>\n",
       "    <tr>\n",
       "      <th>6</th>\n",
       "      <td>6</td>\n",
       "      <td>0.000882</td>\n",
       "      <td>0.003658</td>\n",
       "      <td>0.007661</td>\n",
       "      <td>0.001007</td>\n",
       "    </tr>\n",
       "    <tr>\n",
       "      <th>7</th>\n",
       "      <td>7</td>\n",
       "      <td>0.000016</td>\n",
       "      <td>0.000045</td>\n",
       "      <td>0.000085</td>\n",
       "      <td>0.000076</td>\n",
       "    </tr>\n",
       "    <tr>\n",
       "      <th>8</th>\n",
       "      <td>8</td>\n",
       "      <td>0.000151</td>\n",
       "      <td>0.000596</td>\n",
       "      <td>0.000849</td>\n",
       "      <td>0.000555</td>\n",
       "    </tr>\n",
       "    <tr>\n",
       "      <th>9</th>\n",
       "      <td>9</td>\n",
       "      <td>0.001327</td>\n",
       "      <td>0.098200</td>\n",
       "      <td>-0.012108</td>\n",
       "      <td>0.001692</td>\n",
       "    </tr>\n",
       "  </tbody>\n",
       "</table>\n",
       "</div>"
      ],
      "text/plain": [
       "   index   Topic_0   Topic_1   Topic_2   Topic_3\n",
       "0      0  0.000083  0.000412  0.000504  0.000489\n",
       "1      1  0.000970  0.001470  0.002382  0.002091\n",
       "2      2  0.000058  0.000059  0.000188  0.000916\n",
       "3      3  0.000090  0.000139  0.000613  0.000125\n",
       "4      4 -0.000094  0.000548  0.001308  0.002030\n",
       "5      5  0.000137  0.001450 -0.000069  0.000166\n",
       "6      6  0.000882  0.003658  0.007661  0.001007\n",
       "7      7  0.000016  0.000045  0.000085  0.000076\n",
       "8      8  0.000151  0.000596  0.000849  0.000555\n",
       "9      9  0.001327  0.098200 -0.012108  0.001692"
      ]
     },
     "execution_count": 52,
     "metadata": {},
     "output_type": "execute_result"
    }
   ],
   "source": [
    "topics.head(10)\n"
   ]
  },
  {
   "cell_type": "markdown",
   "metadata": {},
   "source": [
    ">After we done analyse precentage of dialect for each tweet we now need to assigns specefic dialect for each tweet "
   ]
  },
  {
   "cell_type": "code",
   "execution_count": 53,
   "metadata": {},
   "outputs": [],
   "source": [
    "Dialect = data_lable.merge(topics, on=data.tweet, how='left')\n"
   ]
  },
  {
   "cell_type": "code",
   "execution_count": 54,
   "metadata": {},
   "outputs": [],
   "source": [
    "Dialect.drop(['key_0', 'index_x','index_y'],axis='columns', inplace=True)\n"
   ]
  },
  {
   "cell_type": "code",
   "execution_count": 55,
   "metadata": {},
   "outputs": [],
   "source": [
    "Dialect=Dialect.drop_duplicates(subset='tweet')\n"
   ]
  },
  {
   "cell_type": "code",
   "execution_count": 56,
   "metadata": {},
   "outputs": [],
   "source": [
    "Dialect=Dialect.rename(columns={'Topic_0': 'Nilotic', 'Topic_1': 'Gulf','Topic_2':'Moroccan','Topic_3':'Levantine'})\n"
   ]
  },
  {
   "cell_type": "code",
   "execution_count": 57,
   "metadata": {},
   "outputs": [
    {
     "data": {
      "text/html": [
       "<div>\n",
       "<style scoped>\n",
       "    .dataframe tbody tr th:only-of-type {\n",
       "        vertical-align: middle;\n",
       "    }\n",
       "\n",
       "    .dataframe tbody tr th {\n",
       "        vertical-align: top;\n",
       "    }\n",
       "\n",
       "    .dataframe thead th {\n",
       "        text-align: right;\n",
       "    }\n",
       "</style>\n",
       "<table border=\"1\" class=\"dataframe\">\n",
       "  <thead>\n",
       "    <tr style=\"text-align: right;\">\n",
       "      <th></th>\n",
       "      <th>tweet</th>\n",
       "      <th>topics</th>\n",
       "      <th>Dialect</th>\n",
       "      <th>Nilotic</th>\n",
       "      <th>Gulf</th>\n",
       "      <th>Moroccan</th>\n",
       "      <th>Levantine</th>\n",
       "    </tr>\n",
       "  </thead>\n",
       "  <tbody>\n",
       "    <tr>\n",
       "      <th>0</th>\n",
       "      <td>بتتشرطو وتدو نصايح كانكم متقدمه وناجحين اومال ...</td>\n",
       "      <td>2</td>\n",
       "      <td>Moroccan</td>\n",
       "      <td>0.000083</td>\n",
       "      <td>0.000412</td>\n",
       "      <td>0.000504</td>\n",
       "      <td>0.000489</td>\n",
       "    </tr>\n",
       "    <tr>\n",
       "      <th>1</th>\n",
       "      <td>مبارح بسوق ومعي صحابي فجاه شب بتطلع فيا وبقلي ...</td>\n",
       "      <td>2</td>\n",
       "      <td>Moroccan</td>\n",
       "      <td>0.000970</td>\n",
       "      <td>0.001470</td>\n",
       "      <td>0.002382</td>\n",
       "      <td>0.002091</td>\n",
       "    </tr>\n",
       "    <tr>\n",
       "      <th>2</th>\n",
       "      <td>اتحمل مسؤوليه بيغلط وبيوقع بلساني</td>\n",
       "      <td>3</td>\n",
       "      <td>Levantine</td>\n",
       "      <td>0.000058</td>\n",
       "      <td>0.000059</td>\n",
       "      <td>0.000188</td>\n",
       "      <td>0.000916</td>\n",
       "    </tr>\n",
       "    <tr>\n",
       "      <th>3</th>\n",
       "      <td>قفل بيبانه اصحي وخلي يكتسينا ضيه الكسلانه ويسع...</td>\n",
       "      <td>2</td>\n",
       "      <td>Moroccan</td>\n",
       "      <td>0.000090</td>\n",
       "      <td>0.000139</td>\n",
       "      <td>0.000613</td>\n",
       "      <td>0.000125</td>\n",
       "    </tr>\n",
       "    <tr>\n",
       "      <th>4</th>\n",
       "      <td>السيطره مرضنا عتغير مرضه بسيطه كيفك اخبارك</td>\n",
       "      <td>3</td>\n",
       "      <td>Levantine</td>\n",
       "      <td>-0.000094</td>\n",
       "      <td>0.000548</td>\n",
       "      <td>0.001308</td>\n",
       "      <td>0.002030</td>\n",
       "    </tr>\n",
       "    <tr>\n",
       "      <th>...</th>\n",
       "      <td>...</td>\n",
       "      <td>...</td>\n",
       "      <td>...</td>\n",
       "      <td>...</td>\n",
       "      <td>...</td>\n",
       "      <td>...</td>\n",
       "      <td>...</td>\n",
       "    </tr>\n",
       "    <tr>\n",
       "      <th>63199</th>\n",
       "      <td>ياربي بصااير</td>\n",
       "      <td>1</td>\n",
       "      <td>Gulf</td>\n",
       "      <td>0.000209</td>\n",
       "      <td>0.002569</td>\n",
       "      <td>0.002393</td>\n",
       "      <td>-0.000157</td>\n",
       "    </tr>\n",
       "    <tr>\n",
       "      <th>63200</th>\n",
       "      <td>بدك بروكسي بدك جيليبريك لانو البرامج تبع البرو...</td>\n",
       "      <td>0</td>\n",
       "      <td>Nilotic</td>\n",
       "      <td>0.016789</td>\n",
       "      <td>0.001105</td>\n",
       "      <td>0.010964</td>\n",
       "      <td>0.006855</td>\n",
       "    </tr>\n",
       "    <tr>\n",
       "      <th>63201</th>\n",
       "      <td>واشواقي غلا يف واهتويت اتحلم تهنى ريت</td>\n",
       "      <td>3</td>\n",
       "      <td>Levantine</td>\n",
       "      <td>0.000153</td>\n",
       "      <td>0.000335</td>\n",
       "      <td>0.001602</td>\n",
       "      <td>0.002778</td>\n",
       "    </tr>\n",
       "    <tr>\n",
       "      <th>63202</th>\n",
       "      <td>نحاول نقرب بيحاولوا باى يبعدوا المسفات نهايتها...</td>\n",
       "      <td>3</td>\n",
       "      <td>Levantine</td>\n",
       "      <td>0.000236</td>\n",
       "      <td>0.000308</td>\n",
       "      <td>0.000430</td>\n",
       "      <td>0.000724</td>\n",
       "    </tr>\n",
       "    <tr>\n",
       "      <th>63203</th>\n",
       "      <td>ايوى صافي بقا فانز التداول والمواقع يعطيو رايه...</td>\n",
       "      <td>2</td>\n",
       "      <td>Moroccan</td>\n",
       "      <td>0.000424</td>\n",
       "      <td>0.002221</td>\n",
       "      <td>0.002857</td>\n",
       "      <td>0.000508</td>\n",
       "    </tr>\n",
       "  </tbody>\n",
       "</table>\n",
       "<p>60943 rows × 7 columns</p>\n",
       "</div>"
      ],
      "text/plain": [
       "                                                   tweet  topics    Dialect  \\\n",
       "0      بتتشرطو وتدو نصايح كانكم متقدمه وناجحين اومال ...       2   Moroccan   \n",
       "1      مبارح بسوق ومعي صحابي فجاه شب بتطلع فيا وبقلي ...       2   Moroccan   \n",
       "2                      اتحمل مسؤوليه بيغلط وبيوقع بلساني       3  Levantine   \n",
       "3      قفل بيبانه اصحي وخلي يكتسينا ضيه الكسلانه ويسع...       2   Moroccan   \n",
       "4             السيطره مرضنا عتغير مرضه بسيطه كيفك اخبارك       3  Levantine   \n",
       "...                                                  ...     ...        ...   \n",
       "63199                                       ياربي بصااير       1       Gulf   \n",
       "63200  بدك بروكسي بدك جيليبريك لانو البرامج تبع البرو...       0    Nilotic   \n",
       "63201              واشواقي غلا يف واهتويت اتحلم تهنى ريت       3  Levantine   \n",
       "63202  نحاول نقرب بيحاولوا باى يبعدوا المسفات نهايتها...       3  Levantine   \n",
       "63203  ايوى صافي بقا فانز التداول والمواقع يعطيو رايه...       2   Moroccan   \n",
       "\n",
       "        Nilotic      Gulf  Moroccan  Levantine  \n",
       "0      0.000083  0.000412  0.000504   0.000489  \n",
       "1      0.000970  0.001470  0.002382   0.002091  \n",
       "2      0.000058  0.000059  0.000188   0.000916  \n",
       "3      0.000090  0.000139  0.000613   0.000125  \n",
       "4     -0.000094  0.000548  0.001308   0.002030  \n",
       "...         ...       ...       ...        ...  \n",
       "63199  0.000209  0.002569  0.002393  -0.000157  \n",
       "63200  0.016789  0.001105  0.010964   0.006855  \n",
       "63201  0.000153  0.000335  0.001602   0.002778  \n",
       "63202  0.000236  0.000308  0.000430   0.000724  \n",
       "63203  0.000424  0.002221  0.002857   0.000508  \n",
       "\n",
       "[60943 rows x 7 columns]"
      ]
     },
     "execution_count": 57,
     "metadata": {},
     "output_type": "execute_result"
    }
   ],
   "source": [
    "Dialect"
   ]
  },
  {
   "cell_type": "code",
   "execution_count": 58,
   "metadata": {},
   "outputs": [],
   "source": [
    "#\"Nilotic\" ==> 0 \n",
    "#\"Gulf\"==> 1\n",
    "#\"Levantine\"==> 3\n",
    "#\"Moroccan\"==>2"
   ]
  },
  {
   "cell_type": "markdown",
   "metadata": {},
   "source": [
    "#### 6. EDA"
   ]
  },
  {
   "cell_type": "code",
   "execution_count": 59,
   "metadata": {},
   "outputs": [
    {
     "data": {
      "image/png": "[encoded data removed]",
      "text/plain": [
       "<Figure size 1080x720 with 1 Axes>"
      ]
     },
     "metadata": {
      "needs_background": "light"
     },
     "output_type": "display_data"
    }
   ],
   "source": [
    "plt.figure(figsize=(15,10))\n",
    "plt.yticks(fontsize=20, size=16) \n",
    "plt.xticks(fontsize=20) \n",
    "plt.rc('ytick', labelsize=12) \n",
    "sns.barplot(y=data_lable['Dialect'].value_counts().index, \n",
    "            x=data_lable['Dialect'].value_counts(normalize=True, ascending=False), \n",
    "            data=data_lable, orient='h', \n",
    "            color='#b3e5fc',saturation=1\n",
    "           )\n",
    "plt.xlabel('The percentage of dialects', fontsize=12)\n",
    "# plt.ylabel(fontsize=12, **t_font)\n",
    "\n",
    "sns.despine();"
   ]
  },
  {
   "cell_type": "markdown",
   "metadata": {},
   "source": [
    "#### Topics Word Clouds\n"
   ]
  },
  {
   "cell_type": "markdown",
   "metadata": {},
   "source": [
    "###### Nilotic"
   ]
  },
  {
   "cell_type": "markdown",
   "metadata": {},
   "source": [
    "50 most common words in Nilotic\n"
   ]
  },
  {
   "cell_type": "code",
   "execution_count": 60,
   "metadata": {},
   "outputs": [
    {
     "data": {
      "image/png": "[encoded data removed]",
      "text/plain": [
       "<PIL.Image.Image image mode=RGB size=500x300 at 0x7FD264726730>"
      ]
     },
     "execution_count": 60,
     "metadata": {},
     "output_type": "execute_result"
    }
   ],
   "source": [
    "# Create a WordCloud \n",
    "Nilotic_df = data_lable[(data_lable['Dialect']=='Nilotic')]\n",
    "\n",
    "long_string = ','.join(list(Nilotic_df.tweet.values))\n",
    "\n",
    "reshaped_text = arabic_reshaper.reshape(long_string)\n",
    "bidi_text = get_display(reshaped_text)\n",
    "wordcloud = WordCloud(stopwords=stop_ls,max_words=50,width=500, height=300, background_color=\"white\",font_path='Data/ArbFONTS-NotoNaskhArabic-Regular.ttf').generate(bidi_text)\n",
    "\n",
    "wordcloud.to_file(\"imag/worCloud_Nilotic.png\")\n",
    "wordcloud.to_image()"
   ]
  },
  {
   "cell_type": "markdown",
   "metadata": {},
   "source": [
    "###### Gulf"
   ]
  },
  {
   "cell_type": "markdown",
   "metadata": {},
   "source": [
    "50 most common words in Gulf\n"
   ]
  },
  {
   "cell_type": "code",
   "execution_count": 61,
   "metadata": {},
   "outputs": [
    {
     "data": {
      "image/png": "[encoded data removed]",
      "text/plain": [
       "<PIL.Image.Image image mode=RGB size=500x300 at 0x7FC3FA016F10>"
      ]
     },
     "execution_count": 61,
     "metadata": {},
     "output_type": "execute_result"
    }
   ],
   "source": [
    "# Create a WordCloud \n",
    "Gulf_df = data_lable[(data_lable['Dialect']=='Gulf')]\n",
    "\n",
    "long_string = ','.join(list(Gulf_df.tweet.values))\n",
    "\n",
    "reshaped_text = arabic_reshaper.reshape(long_string)\n",
    "bidi_text = get_display(reshaped_text)\n",
    "wordcloud = WordCloud(stopwords=stop_ls,max_words=50,width=500, height=300, background_color=\"white\",font_path='Data/ArbFONTS-NotoNaskhArabic-Regular.ttf').generate(bidi_text)\n",
    "\n",
    "wordcloud.to_file(\"imag/worCloud_Gulf.png\")\n",
    "wordcloud.to_image()"
   ]
  },
  {
   "cell_type": "markdown",
   "metadata": {},
   "source": [
    "###### Levantine"
   ]
  },
  {
   "cell_type": "markdown",
   "metadata": {},
   "source": [
    "50 most common words in Levantine"
   ]
  },
  {
   "cell_type": "code",
   "execution_count": 62,
   "metadata": {},
   "outputs": [
    {
     "data": {
      "image/png": "[encoded data removed]",
      "text/plain": [
       "<PIL.Image.Image image mode=RGB size=500x300 at 0x7FD2787422B0>"
      ]
     },
     "execution_count": 62,
     "metadata": {},
     "output_type": "execute_result"
    }
   ],
   "source": [
    "# Create a WordCloud \n",
    "Levantine_df = data_lable[(data_lable['Dialect']=='Levantine')]\n",
    "\n",
    "long_string = ','.join(list(Levantine_df.tweet.values))\n",
    "\n",
    "reshaped_text = arabic_reshaper.reshape(long_string)\n",
    "bidi_text = get_display(reshaped_text)\n",
    "wordcloud = WordCloud(stopwords=stop_ls,max_words=50,width=500, height=300, background_color=\"white\",font_path='Data/ArbFONTS-NotoNaskhArabic-Regular.ttf').generate(bidi_text)\n",
    "\n",
    "wordcloud.to_file(\"imag/worCloud_Levantine.png\")\n",
    "wordcloud.to_image()"
   ]
  },
  {
   "cell_type": "markdown",
   "metadata": {},
   "source": [
    "###### Moroccan"
   ]
  },
  {
   "cell_type": "markdown",
   "metadata": {},
   "source": [
    "50 most common words in Moroccan"
   ]
  },
  {
   "cell_type": "code",
   "execution_count": 63,
   "metadata": {},
   "outputs": [
    {
     "data": {
      "image/png": "[encoded data removed]",
      "text/plain": [
       "<PIL.Image.Image image mode=RGB size=500x300 at 0x7FD22515D580>"
      ]
     },
     "execution_count": 63,
     "metadata": {},
     "output_type": "execute_result"
    }
   ],
   "source": [
    "#Create a WordCloud \n",
    "Moroccan_df = data_lable[(data_lable['Dialect']=='Moroccan')]\n",
    "\n",
    "long_string = ','.join(list(Moroccan_df.tweet.values))\n",
    "\n",
    "reshaped_text = arabic_reshaper.reshape(long_string)\n",
    "bidi_text = get_display(reshaped_text)\n",
    "wordcloud = WordCloud(stopwords=stop_ls,max_words=50,width=500, height=300, background_color=\"white\",font_path='Data/ArbFONTS-NotoNaskhArabic-Regular.ttf').generate(bidi_text)\n",
    "\n",
    "wordcloud.to_file(\"imag/worCloud_Moroccan.png\")\n",
    "wordcloud.to_image()"
   ]
  },
  {
   "cell_type": "markdown",
   "metadata": {},
   "source": [
    "## 7. Prepare data for modeling\n"
   ]
  },
  {
   "cell_type": "code",
   "execution_count": 64,
   "metadata": {},
   "outputs": [],
   "source": [
    "# Split the data into X and y data sets\n",
    "X = Dialect.tweet\n",
    "y = Dialect.Dialect"
   ]
  },
  {
   "cell_type": "code",
   "execution_count": 65,
   "metadata": {},
   "outputs": [],
   "source": [
    "# Split the data into training and test sets\n",
    "X_train, X_test, y_train, y_test = train_test_split(X, y, test_size=0.3, random_state=42)"
   ]
  },
  {
   "cell_type": "code",
   "execution_count": 66,
   "metadata": {},
   "outputs": [
    {
     "data": {
      "text/html": [
       "<div>\n",
       "<style scoped>\n",
       "    .dataframe tbody tr th:only-of-type {\n",
       "        vertical-align: middle;\n",
       "    }\n",
       "\n",
       "    .dataframe tbody tr th {\n",
       "        vertical-align: top;\n",
       "    }\n",
       "\n",
       "    .dataframe thead th {\n",
       "        text-align: right;\n",
       "    }\n",
       "</style>\n",
       "<table border=\"1\" class=\"dataframe\">\n",
       "  <thead>\n",
       "    <tr style=\"text-align: right;\">\n",
       "      <th></th>\n",
       "      <th>ؤاحضنك</th>\n",
       "      <th>ؤاحضنك وانسى</th>\n",
       "      <th>ؤالحمدلله</th>\n",
       "      <th>ؤالحمدلله اصابه</th>\n",
       "      <th>ؤالحياه</th>\n",
       "      <th>ؤالحياه قسمه</th>\n",
       "      <th>ؤاللؤلؤه</th>\n",
       "      <th>ؤاللؤلؤه والمجمعات</th>\n",
       "      <th>ؤاللي</th>\n",
       "      <th>ؤاللي بدؤن</th>\n",
       "      <th>...</th>\n",
       "      <th>ييل يي</th>\n",
       "      <th>ييلا</th>\n",
       "      <th>ييلا بتكشي</th>\n",
       "      <th>ييلس</th>\n",
       "      <th>ييلس بدال</th>\n",
       "      <th>يين</th>\n",
       "      <th>يين لمنير</th>\n",
       "      <th>ييه</th>\n",
       "      <th>ييه زوزو</th>\n",
       "      <th>ييه قلتلك</th>\n",
       "    </tr>\n",
       "  </thead>\n",
       "  <tbody>\n",
       "    <tr>\n",
       "      <th>0</th>\n",
       "      <td>0.0</td>\n",
       "      <td>0.0</td>\n",
       "      <td>0.0</td>\n",
       "      <td>0.0</td>\n",
       "      <td>0.0</td>\n",
       "      <td>0.0</td>\n",
       "      <td>0.0</td>\n",
       "      <td>0.0</td>\n",
       "      <td>0.0</td>\n",
       "      <td>0.0</td>\n",
       "      <td>...</td>\n",
       "      <td>0.0</td>\n",
       "      <td>0.0</td>\n",
       "      <td>0.0</td>\n",
       "      <td>0.0</td>\n",
       "      <td>0.0</td>\n",
       "      <td>0.0</td>\n",
       "      <td>0.0</td>\n",
       "      <td>0.0</td>\n",
       "      <td>0.0</td>\n",
       "      <td>0.0</td>\n",
       "    </tr>\n",
       "    <tr>\n",
       "      <th>1</th>\n",
       "      <td>0.0</td>\n",
       "      <td>0.0</td>\n",
       "      <td>0.0</td>\n",
       "      <td>0.0</td>\n",
       "      <td>0.0</td>\n",
       "      <td>0.0</td>\n",
       "      <td>0.0</td>\n",
       "      <td>0.0</td>\n",
       "      <td>0.0</td>\n",
       "      <td>0.0</td>\n",
       "      <td>...</td>\n",
       "      <td>0.0</td>\n",
       "      <td>0.0</td>\n",
       "      <td>0.0</td>\n",
       "      <td>0.0</td>\n",
       "      <td>0.0</td>\n",
       "      <td>0.0</td>\n",
       "      <td>0.0</td>\n",
       "      <td>0.0</td>\n",
       "      <td>0.0</td>\n",
       "      <td>0.0</td>\n",
       "    </tr>\n",
       "    <tr>\n",
       "      <th>2</th>\n",
       "      <td>0.0</td>\n",
       "      <td>0.0</td>\n",
       "      <td>0.0</td>\n",
       "      <td>0.0</td>\n",
       "      <td>0.0</td>\n",
       "      <td>0.0</td>\n",
       "      <td>0.0</td>\n",
       "      <td>0.0</td>\n",
       "      <td>0.0</td>\n",
       "      <td>0.0</td>\n",
       "      <td>...</td>\n",
       "      <td>0.0</td>\n",
       "      <td>0.0</td>\n",
       "      <td>0.0</td>\n",
       "      <td>0.0</td>\n",
       "      <td>0.0</td>\n",
       "      <td>0.0</td>\n",
       "      <td>0.0</td>\n",
       "      <td>0.0</td>\n",
       "      <td>0.0</td>\n",
       "      <td>0.0</td>\n",
       "    </tr>\n",
       "    <tr>\n",
       "      <th>3</th>\n",
       "      <td>0.0</td>\n",
       "      <td>0.0</td>\n",
       "      <td>0.0</td>\n",
       "      <td>0.0</td>\n",
       "      <td>0.0</td>\n",
       "      <td>0.0</td>\n",
       "      <td>0.0</td>\n",
       "      <td>0.0</td>\n",
       "      <td>0.0</td>\n",
       "      <td>0.0</td>\n",
       "      <td>...</td>\n",
       "      <td>0.0</td>\n",
       "      <td>0.0</td>\n",
       "      <td>0.0</td>\n",
       "      <td>0.0</td>\n",
       "      <td>0.0</td>\n",
       "      <td>0.0</td>\n",
       "      <td>0.0</td>\n",
       "      <td>0.0</td>\n",
       "      <td>0.0</td>\n",
       "      <td>0.0</td>\n",
       "    </tr>\n",
       "    <tr>\n",
       "      <th>4</th>\n",
       "      <td>0.0</td>\n",
       "      <td>0.0</td>\n",
       "      <td>0.0</td>\n",
       "      <td>0.0</td>\n",
       "      <td>0.0</td>\n",
       "      <td>0.0</td>\n",
       "      <td>0.0</td>\n",
       "      <td>0.0</td>\n",
       "      <td>0.0</td>\n",
       "      <td>0.0</td>\n",
       "      <td>...</td>\n",
       "      <td>0.0</td>\n",
       "      <td>0.0</td>\n",
       "      <td>0.0</td>\n",
       "      <td>0.0</td>\n",
       "      <td>0.0</td>\n",
       "      <td>0.0</td>\n",
       "      <td>0.0</td>\n",
       "      <td>0.0</td>\n",
       "      <td>0.0</td>\n",
       "      <td>0.0</td>\n",
       "    </tr>\n",
       "  </tbody>\n",
       "</table>\n",
       "<p>5 rows × 345066 columns</p>\n",
       "</div>"
      ],
      "text/plain": [
       "   ؤاحضنك  ؤاحضنك وانسى  ؤالحمدلله  ؤالحمدلله اصابه  ؤالحياه  ؤالحياه قسمه  \\\n",
       "0     0.0           0.0        0.0              0.0      0.0           0.0   \n",
       "1     0.0           0.0        0.0              0.0      0.0           0.0   \n",
       "2     0.0           0.0        0.0              0.0      0.0           0.0   \n",
       "3     0.0           0.0        0.0              0.0      0.0           0.0   \n",
       "4     0.0           0.0        0.0              0.0      0.0           0.0   \n",
       "\n",
       "   ؤاللؤلؤه  ؤاللؤلؤه والمجمعات  ؤاللي  ؤاللي بدؤن  ...  ييل يي  ييلا  \\\n",
       "0       0.0                 0.0    0.0         0.0  ...     0.0   0.0   \n",
       "1       0.0                 0.0    0.0         0.0  ...     0.0   0.0   \n",
       "2       0.0                 0.0    0.0         0.0  ...     0.0   0.0   \n",
       "3       0.0                 0.0    0.0         0.0  ...     0.0   0.0   \n",
       "4       0.0                 0.0    0.0         0.0  ...     0.0   0.0   \n",
       "\n",
       "   ييلا بتكشي  ييلس  ييلس بدال  يين  يين لمنير  ييه  ييه زوزو  ييه قلتلك  \n",
       "0         0.0   0.0        0.0  0.0        0.0  0.0       0.0        0.0  \n",
       "1         0.0   0.0        0.0  0.0        0.0  0.0       0.0        0.0  \n",
       "2         0.0   0.0        0.0  0.0        0.0  0.0       0.0        0.0  \n",
       "3         0.0   0.0        0.0  0.0        0.0  0.0       0.0        0.0  \n",
       "4         0.0   0.0        0.0  0.0        0.0  0.0       0.0        0.0  \n",
       "\n",
       "[5 rows x 345066 columns]"
      ]
     },
     "execution_count": 66,
     "metadata": {},
     "output_type": "execute_result"
    }
   ],
   "source": [
    "# The first document-term matrix has default Count Vectorizer values - counts of unigrams\n",
    "\n",
    "cv1 = TfidfVectorizer(stop_words= stop_ls,ngram_range = (1,2))\n",
    "\n",
    "X_train_cv1 = cv1.fit_transform(X_train)\n",
    "X_test_cv1  = cv1.transform(X_test)\n",
    "\n",
    "pd.DataFrame(X_train_cv1.toarray(), columns=cv1.get_feature_names()).head()"
   ]
  },
  {
   "cell_type": "markdown",
   "metadata": {},
   "source": [
    "## 8. Classification"
   ]
  },
  {
   "cell_type": "markdown",
   "metadata": {},
   "source": [
    "##### Try classifying using Logistic Regression"
   ]
  },
  {
   "cell_type": "code",
   "execution_count": 67,
   "metadata": {},
   "outputs": [],
   "source": [
    "# Create a logistic regression model to use\n",
    "lr = LogisticRegression()"
   ]
  },
  {
   "cell_type": "code",
   "execution_count": 68,
   "metadata": {},
   "outputs": [],
   "source": [
    "# Train the first model\n",
    "lr.fit(X_train_cv1, y_train)\n",
    "y_pred_cv1 = lr.predict(X_test_cv1)"
   ]
  },
  {
   "cell_type": "code",
   "execution_count": 69,
   "metadata": {},
   "outputs": [
    {
     "name": "stdout",
     "output_type": "stream",
     "text": [
      "              precision    recall  f1-score   support\n",
      "\n",
      "        Gulf       0.85      0.54      0.66      3687\n",
      "   Levantine       0.69      0.88      0.77      6747\n",
      "    Moroccan       0.73      0.79      0.76      6336\n",
      "     Nilotic       0.99      0.27      0.42      1513\n",
      "\n",
      "    accuracy                           0.73     18283\n",
      "   macro avg       0.81      0.62      0.65     18283\n",
      "weighted avg       0.76      0.73      0.71     18283\n",
      "\n"
     ]
    }
   ],
   "source": [
    "print(classification_report(y_test,y_pred_cv1))"
   ]
  },
  {
   "cell_type": "code",
   "execution_count": 70,
   "metadata": {},
   "outputs": [
    {
     "name": "stdout",
     "output_type": "stream",
     "text": [
      "Logistic Regression Accuracy= 0.7295301646338128\n",
      "Logistic Regression F1 score= 0.7295301646338129\n"
     ]
    }
   ],
   "source": [
    "print(\"Logistic Regression Accuracy=\",accuracy_score(y_test, y_pred_cv1))\n",
    "print(\"Logistic Regression F1 score=\",f1_score(y_test, y_pred_cv1, average='micro'))"
   ]
  },
  {
   "cell_type": "markdown",
   "metadata": {},
   "source": [
    "##### Try classifying using Naive Bayes\n"
   ]
  },
  {
   "cell_type": "code",
   "execution_count": 71,
   "metadata": {},
   "outputs": [],
   "source": [
    "# Fit the first Naive Bayes model\n",
    "mnb = MultinomialNB()\n",
    "mnb.fit(X_train_cv1, y_train)\n",
    "\n",
    "y_pred_cv1_nb = mnb.predict(X_test_cv1)"
   ]
  },
  {
   "cell_type": "code",
   "execution_count": 72,
   "metadata": {},
   "outputs": [
    {
     "name": "stdout",
     "output_type": "stream",
     "text": [
      "              precision    recall  f1-score   support\n",
      "\n",
      "        Gulf       0.97      0.22      0.35      3687\n",
      "   Levantine       0.59      0.91      0.71      6747\n",
      "    Moroccan       0.68      0.74      0.71      6336\n",
      "     Nilotic       1.00      0.07      0.14      1513\n",
      "\n",
      "    accuracy                           0.64     18283\n",
      "   macro avg       0.81      0.48      0.48     18283\n",
      "weighted avg       0.73      0.64      0.59     18283\n",
      "\n"
     ]
    }
   ],
   "source": [
    "print(classification_report(y_test,y_pred_cv1_nb))"
   ]
  },
  {
   "cell_type": "code",
   "execution_count": 73,
   "metadata": {},
   "outputs": [
    {
     "name": "stdout",
     "output_type": "stream",
     "text": [
      "Naive Bayes Accuracy= 0.6420171744243286\n",
      "Naive Bayes F1 score= 0.6420171744243286\n"
     ]
    }
   ],
   "source": [
    "print(\"Naive Bayes Accuracy=\",accuracy_score(y_test,y_pred_cv1_nb))\n",
    "print(\"Naive Bayes F1 score=\",f1_score(y_test, y_pred_cv1_nb, average='micro'))"
   ]
  },
  {
   "cell_type": "markdown",
   "metadata": {},
   "source": [
    "##### Try classifying using SVM\n"
   ]
  },
  {
   "cell_type": "code",
   "execution_count": 74,
   "metadata": {},
   "outputs": [],
   "source": [
    "# Classifier - Algorithm - SVM\n",
    "# fit the training dataset on the classifier\n",
    "SVM = SVC(kernel='linear')\n",
    "SVM.fit(X_train_cv1,y_train)\n",
    "# predict the labels on validation dataset\n",
    "predictions_SVM = SVM.predict(X_test_cv1)"
   ]
  },
  {
   "cell_type": "code",
   "execution_count": 75,
   "metadata": {},
   "outputs": [
    {
     "name": "stdout",
     "output_type": "stream",
     "text": [
      "              precision    recall  f1-score   support\n",
      "\n",
      "        Gulf       0.77      0.66      0.71      3687\n",
      "   Levantine       0.72      0.82      0.77      6747\n",
      "    Moroccan       0.75      0.77      0.76      6336\n",
      "     Nilotic       0.87      0.51      0.65      1513\n",
      "\n",
      "    accuracy                           0.75     18283\n",
      "   macro avg       0.78      0.69      0.72     18283\n",
      "weighted avg       0.75      0.75      0.74     18283\n",
      "\n"
     ]
    }
   ],
   "source": [
    "print(classification_report(y_test,predictions_SVM))"
   ]
  },
  {
   "cell_type": "code",
   "execution_count": 76,
   "metadata": {},
   "outputs": [
    {
     "name": "stdout",
     "output_type": "stream",
     "text": [
      "SVM Accuracy= 0.7469780670568288\n",
      "SVM F1 score= 0.7469780670568288\n"
     ]
    }
   ],
   "source": [
    "# Use accuracy_score function to get the accuracy\n",
    "print(\"SVM Accuracy=\",accuracy_score(predictions_SVM, y_test))\n",
    "print(\"SVM F1 score=\",f1_score(y_test,predictions_SVM, average='micro'))"
   ]
  },
  {
   "cell_type": "markdown",
   "metadata": {},
   "source": [
    "#### Save the model"
   ]
  },
  {
   "cell_type": "code",
   "execution_count": 79,
   "metadata": {},
   "outputs": [],
   "source": [
    "import pickle\n",
    "pickle.dump(SVM, open('model.pkl', 'wb'))\n"
   ]
  },
  {
   "cell_type": "code",
   "execution_count": 80,
   "metadata": {},
   "outputs": [],
   "source": [
    "pickle.dump(cv1, open(\"vectorizer.pickle\", \"wb\"))\n"
   ]
  }
 ],
 "metadata": {
  "kernelspec": {
   "display_name": "Python 3",
   "language": "python",
   "name": "python3"
  },
  "language_info": {
   "codemirror_mode": {
    "name": "ipython",
    "version": 3
   },
   "file_extension": ".py",
   "mimetype": "text/x-python",
   "name": "python",
   "nbconvert_exporter": "python",
   "pygments_lexer": "ipython3",
   "version": "3.8.8"
  }
 },
 "nbformat": 4,
 "nbformat_minor": 2
}
